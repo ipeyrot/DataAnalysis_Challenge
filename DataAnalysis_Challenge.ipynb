{
 "metadata": {
  "name": "",
  "signature": "sha256:867680bd50d9b6d0b4ed2b0396506d3626db350dcbccb597ae68bb6d97276797"
 },
 "nbformat": 3,
 "nbformat_minor": 0,
 "worksheets": [
  {
   "cells": [
    {
     "cell_type": "code",
     "collapsed": false,
     "input": [
      "import os\n",
      "import csv\n",
      "import pandas as pd\n",
      "import numpy as np\n",
      "import matplotlib.pyplot as plt\n",
      "from IPython.html import widgets\n",
      "from IPython.html.widgets import interact\n",
      "from IPython.display import display\n",
      "from GeoBases import GeoBase\n",
      "\n",
      "pd.set_option('display.mpl_style', 'default')\n",
      "\n",
      "htmlContent = ''\n",
      "\n",
      "def header(text):\n",
      " raw_html = '<h1>' + str(text) + '</h1>'\n",
      " return raw_html\n",
      "\n",
      "def box(text):\n",
      " raw_html = '<div style=\"border:1px dotted black;padding:2em;\"><h1>' +str(text)+'</h1></div>'\n",
      " return raw_html\n",
      "\n",
      "def addContent(raw_html):\n",
      " global htmlContent\n",
      " htmlContent += raw_html\n",
      "\n",
      "addContent( header(\"Data Analysis Challenge\") )\n",
      "from IPython.core.display import HTML\n",
      "HTML(htmlContent)\n"
     ],
     "language": "python",
     "metadata": {},
     "outputs": [
      {
       "html": [
        "<h1>Data Analysis Challenge</h1>"
       ],
       "metadata": {},
       "output_type": "pyout",
       "prompt_number": 1,
       "text": [
        "<IPython.core.display.HTML at 0xccc2f98>"
       ]
      }
     ],
     "prompt_number": 1
    },
    {
     "cell_type": "code",
     "collapsed": false,
     "input": [
      "# Check current working directory.\n",
      "my_directory = os.getcwd()\n",
      "print \"Current working directory %s\" % my_directory\n",
      "\n",
      "path = \"D:/PERSO/ISABELLE/DataScientistTest\"\n",
      "\n",
      "# Now change the directory\n",
      "os.chdir(path)\n",
      "\n",
      "# Check current working directory.\n",
      "my_directory = os.getcwd()\n",
      "\n",
      "print \"Directory changed successfully %s\" % my_directory"
     ],
     "language": "python",
     "metadata": {},
     "outputs": [
      {
       "output_type": "stream",
       "stream": "stdout",
       "text": [
        "Current working directory C:\\Users\\User\\Documents\\IPython Notebooks\n",
        "Directory changed successfully D:\\PERSO\\ISABELLE\\DataScientistTest\n"
       ]
      }
     ],
     "prompt_number": 2
    },
    {
     "cell_type": "code",
     "collapsed": false,
     "input": [
      "htmlContent = ''\n",
      "addContent( header(\"Retrieve GeoBase package\") )\n",
      "from IPython.core.display import HTML\n",
      "HTML(htmlContent)"
     ],
     "language": "python",
     "metadata": {},
     "outputs": [
      {
       "html": [
        "<h1>Retrieve GeoBase package</h1>"
       ],
       "metadata": {},
       "output_type": "pyout",
       "prompt_number": 320,
       "text": [
        "<IPython.core.display.HTML at 0x66888898>"
       ]
      }
     ],
     "prompt_number": 320
    },
    {
     "cell_type": "code",
     "collapsed": false,
     "input": [
      "%%capture\n",
      "import pip\n",
      "\n",
      "def install(package):\n",
      "    pip.main(['install',package])\n",
      "\n",
      "install('GeoBases')"
     ],
     "language": "python",
     "metadata": {},
     "outputs": [],
     "prompt_number": 316
    },
    {
     "cell_type": "code",
     "collapsed": false,
     "input": [
      "geo_a = GeoBase(data='airports', verbose=False)\n",
      "#other things that might be useful\n",
      "geo_o = GeoBase(data='ori_por', verbose=False)\n",
      "geo_t = GeoBase(data='stations', verbose=False)\n",
      "\n",
      "print(geo_a.fuzzyFind('Madrid', 'name'))\n",
      "print(geo_a.fuzzyFind('Barcelona', 'name'))\n",
      "print(geo_a.fuzzyFind('Malaga', 'name'))\n",
      "\n"
     ],
     "language": "python",
     "metadata": {},
     "outputs": [
      {
       "output_type": "stream",
       "stream": "stdout",
       "text": [
        "[(0.9, 'MAD'), (0.7692307692307693, 'IXM')]\n",
        "[(0.9, 'BCN'), (0.7777777777777778, 'QAK')]"
       ]
      },
      {
       "output_type": "stream",
       "stream": "stdout",
       "text": [
        "\n",
        "[(0.9, 'AGP'), (0.7692307692307693, 'PLQ'), (0.7692307692307693, 'MAK')]"
       ]
      },
      {
       "output_type": "stream",
       "stream": "stdout",
       "text": [
        "\n"
       ]
      }
     ],
     "prompt_number": 10
    },
    {
     "cell_type": "code",
     "collapsed": false,
     "input": [
      "htmlContent = ''\n",
      "addContent( box(\"Reading the attributes of both files \") )\n",
      "from IPython.core.display import HTML\n",
      "HTML(htmlContent)"
     ],
     "language": "python",
     "metadata": {},
     "outputs": [
      {
       "html": [
        "<div style=\"border:1px dotted black;padding:2em;\"><h1>Reading the attributes of both files </h1></div>"
       ],
       "metadata": {},
       "output_type": "pyout",
       "prompt_number": 3,
       "text": [
        "<IPython.core.display.HTML at 0x3caad30>"
       ]
      }
     ],
     "prompt_number": 3
    },
    {
     "cell_type": "code",
     "collapsed": false,
     "input": [
      "# read the first line of the searching file \n",
      "\n",
      "N=1\n",
      "f=open(\"searches.csv\")\n",
      "for i in range(N):\n",
      " line=f.next().strip()\n",
      " print line\n",
      "f.close()\n",
      "\n",
      "# conclusion : delimiter is '^'"
     ],
     "language": "python",
     "metadata": {},
     "outputs": [
      {
       "output_type": "stream",
       "stream": "stdout",
       "text": [
        "Date^Time^TxnCode^OfficeID^Country^Origin^Destination^RoundTrip^NbSegments^Seg1Departure^Seg1Arrival^Seg1Date^Seg1Carrier^Seg1BookingCode^Seg2Departure^Seg2Arrival^Seg2Date^Seg2Carrier^Seg2BookingCode^Seg3Departure^Seg3Arrival^Seg3Date^Seg3Carrier^Seg3BookingCode^Seg4Departure^Seg4Arrival^Seg4Date^Seg4Carrier^Seg4BookingCode^Seg5Departure^Seg5Arrival^Seg5Date^Seg5Carrier^Seg5BookingCode^Seg6Departure^Seg6Arrival^Seg6Date^Seg6Carrier^Seg6BookingCode^From^IsPublishedForNeg^IsFromInternet^IsFromVista^TerminalID^InternetOffice\n"
       ]
      }
     ],
     "prompt_number": 5
    },
    {
     "cell_type": "code",
     "collapsed": false,
     "input": [
      "# read the first line of the booking file\n",
      "\n",
      "N=1\n",
      "f=open(\"bookings.csv\")\n",
      "for i in range(N):\n",
      " line=f.next().strip()\n",
      " print line\n",
      "f.close()\n"
     ],
     "language": "python",
     "metadata": {},
     "outputs": [
      {
       "output_type": "stream",
       "stream": "stdout",
       "text": [
        "act_date           ^source^pos_ctry^pos_iata^pos_oid  ^rloc          ^cre_date           ^duration^distance^dep_port^dep_city^dep_ctry^arr_port^arr_city^arr_ctry^lst_port^lst_city^lst_ctry^brd_port^brd_city^brd_ctry^off_port^off_city^off_ctry^mkt_port^mkt_city^mkt_ctry^intl^route          ^carrier^bkg_class^cab_class^brd_time           ^off_time           ^pax^year^month^oid\n"
       ]
      }
     ],
     "prompt_number": 145
    },
    {
     "cell_type": "code",
     "collapsed": false,
     "input": [
      "htmlContent = ''\n",
      "addContent( box(\"Q1. Count the number of lines for each file\") )\n",
      "from IPython.core.display import HTML\n",
      "HTML(htmlContent)"
     ],
     "language": "python",
     "metadata": {},
     "outputs": [
      {
       "html": [
        "<div style=\"border:1px dotted black;padding:2em;\"><h1>Q1. Count the number of lines for each file</h1></div>"
       ],
       "metadata": {},
       "output_type": "pyout",
       "prompt_number": 7,
       "text": [
        "<IPython.core.display.HTML at 0xc67e1d0>"
       ]
      }
     ],
     "prompt_number": 7
    },
    {
     "cell_type": "code",
     "collapsed": false,
     "input": [
      "from IPython.display import HTML\n",
      "\n",
      "def counter_line(fname):\n",
      "    count = 0\n",
      "    try:\n",
      "        f = open(fname, 'r')\n",
      "        while(f.next()):\n",
      "            count+=1\n",
      "    except:\n",
      "        pass\n",
      "    return count\n",
      "\n",
      "srch_lines = counter_line(\"searches.csv\")\n",
      "print \"the number of lines in searching.csv are %s\" % srch_lines\n",
      "\n",
      "booking_lines = counter_line(\"bookings.csv\")\n",
      "print \"the number of lines in bookings.csv are %s\" % booking_lines"
     ],
     "language": "python",
     "metadata": {},
     "outputs": [
      {
       "output_type": "stream",
       "stream": "stdout",
       "text": [
        "the number of lines in searching.csv are 20390199\n",
        "the number of lines in bookings.csv are 10000011"
       ]
      },
      {
       "output_type": "stream",
       "stream": "stdout",
       "text": [
        "\n"
       ]
      }
     ],
     "prompt_number": 4
    },
    {
     "cell_type": "code",
     "collapsed": false,
     "input": [
      "htmlContent = ''\n",
      "addContent( box(\"0. Preprocessing of files\") )\n",
      "from IPython.core.display import HTML\n",
      "HTML(htmlContent)"
     ],
     "language": "python",
     "metadata": {},
     "outputs": [
      {
       "html": [
        "<div style=\"border:1px dotted black;padding:2em;\"><h1>0. Preprocessing of files</h1></div>"
       ],
       "metadata": {},
       "output_type": "pyout",
       "prompt_number": 3,
       "text": [
        "<IPython.core.display.HTML at 0x3d1aac8>"
       ]
      }
     ],
     "prompt_number": 3
    },
    {
     "cell_type": "code",
     "collapsed": false,
     "input": [
      "headers_searches = ['Date','Seg1Date']\n",
      "searches_data = pd.read_table(\"searches.csv\",sep='^',usecols=headers_searches) \n",
      "searches_data.dropna(how='any',inplace=True) \n",
      "print \"the search data have been retrieved btw\",min(searches_data['Date']),\"and\",max(searches_data['Date'])\n",
      "print \"for flight date between \",min(searches_data['Seg1Date']),\"and\",max(searches_data['Seg1Date'])\n",
      "\n",
      "resizedfactor = 100 - (( len(searches_data) * 100 ) / 20390199)\n",
      "print \"after preprocessing,\",resizedfactor,\"% of rows have been cleaned\""
     ],
     "language": "python",
     "metadata": {},
     "outputs": [
      {
       "output_type": "stream",
       "stream": "stdout",
       "text": [
        "the search data have been retrieved btw "
       ]
      },
      {
       "output_type": "stream",
       "stream": "stdout",
       "text": [
        "2013-01-01 and "
       ]
      },
      {
       "output_type": "stream",
       "stream": "stdout",
       "text": [
        "2013-12-25\n",
        "for flight date between  "
       ]
      },
      {
       "output_type": "stream",
       "stream": "stdout",
       "text": [
        "2013-01-01 and "
       ]
      },
      {
       "output_type": "stream",
       "stream": "stdout",
       "text": [
        "2014-12-22\n",
        "after preprocessing, 1 % of rows have been cleaned\n"
       ]
      }
     ],
     "prompt_number": 7
    },
    {
     "cell_type": "code",
     "collapsed": false,
     "input": [
      "headers_bookings = ['off_time           ']\n",
      "booking_data = pd.read_table(\"bookings.csv\",sep='^',usecols=headers_bookings) \n",
      "booking_data.dropna(inplace=True) \n",
      "resizedfactor = 100 - (( len(booking_data) * 100 ) / 10000011)\n",
      "print \"after preprocessing,\",resizedfactor,\"% of rows have been cleaned\""
     ],
     "language": "python",
     "metadata": {},
     "outputs": [
      {
       "output_type": "stream",
       "stream": "stdout",
       "text": [
        "after preprocessing, 1 % of rows have been cleaned\n"
       ]
      }
     ],
     "prompt_number": 6
    },
    {
     "cell_type": "code",
     "collapsed": false,
     "input": [
      "# Here we chunk the dataframe to parse the csv file\n",
      "\n",
      "headers_bookings = ['off_time           ']\n",
      "chunksize=10001\n",
      "max_date = []\n",
      "min_date = []\n",
      "for i in range(0, 1000011, chunksize):\n",
      "    booking_data = pd.read_csv(\"bookings.csv\",sep='^',usecols=headers_bookings, nrows=chunksize,skiprows=range(1, i))\n",
      "    booking_data.dropna(inplace=True) \n",
      "    try:\n",
      "        min_date.append(min(booking_data['off_time           ']))\n",
      "        max_date.append(max(booking_data['off_time           ']))\n",
      "    except:\n",
      "        pass\n",
      "\n",
      "print \"the bookings data have been retrieved btw\",min(min_date),\"and\",max(max_date)"
     ],
     "language": "python",
     "metadata": {},
     "outputs": [
      {
       "output_type": "stream",
       "stream": "stdout",
       "text": [
        "the bookings data have been retrieved btw 2012-03-02 18:33:53 and 2014-12-20 17:44:29\n"
       ]
      }
     ],
     "prompt_number": 8
    },
    {
     "cell_type": "code",
     "collapsed": false,
     "input": [
      "htmlContent = ''\n",
      "addContent( box(\"Q2. top 10 arrival airports in the world in 2013\") )\n",
      "from IPython.core.display import HTML\n",
      "HTML(htmlContent)"
     ],
     "language": "python",
     "metadata": {},
     "outputs": [
      {
       "html": [
        "<div style=\"border:1px dotted black;padding:2em;\"><h1>Q2. top 10 arrival airports in the world in 2013</h1></div>"
       ],
       "metadata": {},
       "output_type": "pyout",
       "prompt_number": 5,
       "text": [
        "<IPython.core.display.HTML at 0x3d1d3c8>"
       ]
      }
     ],
     "prompt_number": 5
    },
    {
     "cell_type": "code",
     "collapsed": false,
     "input": [
      "#0 - Identify the index : year, arr_airport and pax\n",
      "fh = open(\"bookings.csv\", 'rb')\n",
      "try:\n",
      "    for row in csv.reader(fh,delimiter=\"^\"):\n",
      "        print row.index('arr_port')\n",
      "        print row.index('pax')\n",
      "        print row.index('year')\n",
      "        break \n",
      "finally:\n",
      "    fh.close() "
     ],
     "language": "python",
     "metadata": {},
     "outputs": [
      {
       "output_type": "stream",
       "stream": "stdout",
       "text": [
        "12\n",
        "34\n",
        "35\n"
       ]
      }
     ],
     "prompt_number": 13
    },
    {
     "cell_type": "code",
     "collapsed": false,
     "input": [
      "def arr_airport(n):\n",
      "    \n",
      "    lairport = []\n",
      "    lpax = {} # will contain item 'airport:nb_pax'\n",
      "\n",
      "    #1 - Create a list containing the nb passengers per arrival airport\n",
      "    fh = open(\"bookings.csv\", 'rb')\n",
      "    try:\n",
      "        for row in csv.reader(fh,delimiter=\"^\"):\n",
      "            try:\n",
      "                year = row[35]\n",
      "                #print type(pax)\n",
      "                #print arr_airport, year, nb_passengers\n",
      "                if year == \"2013\":\n",
      "                    arr_airport = row[12]\n",
      "                    nb_pax = int(row[34])\n",
      "                    if arr_airport in lairport:\n",
      "                        lpax[arr_airport] += nb_pax\n",
      "                    else:\n",
      "                        lpax[arr_airport] = -1\n",
      "                        lairport.append(arr_airport)\n",
      "            except:\n",
      "                pass\n",
      "    finally:\n",
      "        fh.close()\n",
      "\n",
      "    #2 - Ordering and add the corresponding city code\n",
      "    print \"arr_port | pax  | city\"\n",
      "    i=0\n",
      "    for key, value in sorted(lpax.iteritems(), key=lambda (k,v): (v,k),reverse=True):\n",
      "        city = geo_a.get(key.strip(), 'name', default='None')\n",
      "        print \"%s | %s | %s\" % (key, value,city)\n",
      "        i+=1\n",
      "        if(i == 10):\n",
      "            break\n",
      " \n",
      "%timeit arr_airport(10)"
     ],
     "language": "python",
     "metadata": {},
     "outputs": [
      {
       "output_type": "stream",
       "stream": "stdout",
       "text": [
        "arr_port | pax  | city\n",
        "LHR      | 88809 | London Heathrow Airport\n",
        "MCO      | 70930 | Orlando International Airport\n",
        "LAX      | 70528 | Los Angeles International Airport\n",
        "LAS      | 69625 | McCarran International Airport\n",
        "JFK      | 66268 | John F Kennedy International Airport\n",
        "CDG      | 64488 | Paris - Charles-de-Gaulle\n",
        "BKK      | 59458 | Suvarnabhumi\n",
        "MIA      | 58144 | Miami International Airport\n",
        "SFO      | 57998 | San Francisco International Airport\n",
        "DXB      | 55588 | Dubai International Airport\n"
       ]
      }
     ],
     "prompt_number": 12
    },
    {
     "cell_type": "code",
     "collapsed": false,
     "input": [
      "%matplotlib inline\n",
      "\n",
      "#--------------------------------------------------------------------------------\n",
      "# panda is used here ... conclusion : faster, easier\n",
      "#--------------------------------------------------------------------------------\n",
      "\n",
      "def arr_airport_panda(n):\n",
      "      \n",
      "    headers = ['arr_port', 'pax','year']\n",
      "    data = pd.read_table('bookings.csv',sep='^', usecols=headers, quotechar='|',converters={'year':str})\n",
      "    data.dropna(how='any',inplace=True)\n",
      "    arrs = data[data['year'] == \"2013\"].groupby('arr_port',as_index=False).sum()\n",
      "    #order by number of passengers\n",
      "    top10 = arrs.sort(columns='pax', ascending=False).head(n)\n",
      "\n",
      "    return top10\n",
      "    \n",
      "top10 = arr_airport_panda(10)\n",
      "\n",
      "print top10\n",
      "\n",
      "top10.plot(kind='barh',x='arr_port',y='pax',figsize=(8, 6),title='top 10 arrival airports in the world in 2013')\n"
     ],
     "language": "python",
     "metadata": {},
     "outputs": [
      {
       "output_type": "stream",
       "stream": "stdout",
       "text": [
        "      arr_port    pax\n",
        "1088  LHR       88809\n",
        "1190  MCO       70930\n",
        "1050  LAX       70530\n",
        "1047  LAS       69630\n",
        "886   JFK       66270\n",
        "315   CDG       64490\n",
        "216   BKK       59460\n",
        "1228  MIA       58150\n",
        "1719  SFO       58000\n",
        "517   DXB       55590\n"
       ]
      },
      {
       "metadata": {},
       "output_type": "pyout",
       "prompt_number": 4,
       "text": [
        "<matplotlib.axes._subplots.AxesSubplot at 0xd0a6a20>"
       ]
      },
      {
       "metadata": {},
       "output_type": "display_data",
       "png": "[encoded data removed]",
       "text": [
        "<matplotlib.figure.Figure at 0xd235b00>"
       ]
      }
     ],
     "prompt_number": 4
    },
    {
     "cell_type": "code",
     "collapsed": false,
     "input": [
      "htmlContent = ''\n",
      "addContent( box(\"Q3. Monthly number of searches for flights to Madrid, Barcelona or Malaga\") )\n",
      "from IPython.core.display import HTML\n",
      "HTML(htmlContent)"
     ],
     "language": "python",
     "metadata": {},
     "outputs": [
      {
       "html": [
        "<div style=\"border:1px dotted black;padding:2em;\"><h1>Q3. Monthly number of searches for flights to Madrid, Barcelona or Malaga</h1></div>"
       ],
       "metadata": {},
       "output_type": "pyout",
       "prompt_number": 111,
       "text": [
        "<IPython.core.display.HTML at 0xec60f28>"
       ]
      }
     ],
     "prompt_number": 111
    },
    {
     "cell_type": "code",
     "collapsed": false,
     "input": [
      "## create a function useful later to create a panel from the big database\n",
      "import random\n",
      "\n",
      "def skiprows(n,s):\n",
      "    n = 20390199 #count_file(saf)\n",
      "    s = 5097549 #desired sample size\n",
      "    lines2skip = np.random.choice(np.arange(1,n+1), (n-s), replace=False)\n",
      "    return lines2skip\n",
      "\n"
     ],
     "language": "python",
     "metadata": {},
     "outputs": [],
     "prompt_number": 46
    },
    {
     "cell_type": "code",
     "collapsed": false,
     "input": [
      "%matplotlib inline\n",
      "\n",
      "#------------------------------------------------------------------------------------\n",
      "# main function\n",
      "#------------------------------------------------------------------------------------\n",
      "def monthly_searches_panda(file):\n",
      "      \n",
      "    #--------------------------------------------------------------------------------\n",
      "    # In case of issue of memory, choosen nrows of the csv file cannot lead to a good approach as it is already\n",
      "    # ordered by date - We would prefer to have a subset of the dataframe by chosen rows randomly\n",
      "    #--------------------------------------------------------------------------------\n",
      "    headers = ['Destination', 'Date']\n",
      "    data = pd.read_table(file,sep='^', usecols=headers, skiprows=skiprows(20390199,5097549))\n",
      "    #data = pd.read_table(file,sep='^', usecols=headers, nrows=5097549)\n",
      "    \n",
      "    #--------------------------------------------------------------------------------\n",
      "    # replace empty cell with NaN\n",
      "    #--------------------------------------------------------------------------------\n",
      "    data.replace(r'\\s+', np.nan, regex=True)\n",
      "    data.dropna(how='any',inplace=True) \n",
      "    \n",
      "    try:\n",
      "        temp = data['Date']\n",
      "        temp = pd.DatetimeIndex(data['Date'])\n",
      "        data['Month'] = temp.month\n",
      "    except:\n",
      "        pass\n",
      "    \n",
      "    #--------------------------------------------------------------------------------\n",
      "    # airports : Malaga : AGP, Madrid : MAD, Barcelona: BCN    \n",
      "    # Filter by cities\n",
      "    #--------------------------------------------------------------------------------\n",
      "    list_of_airport = ['AGP','MAD','BCN']\n",
      "    data = data[data['Destination'].isin(list_of_airport)]\n",
      "            \n",
      "\n",
      "    return data.groupby(['Month','Destination']).size().unstack()\n",
      "\n",
      "\n",
      "monthly_searches_panda(\"searches.csv\").plot(figsize=(8, 6),title='Monthly number of searches for flights to Madrid, Barcelona or Malaga')\n"
     ],
     "language": "python",
     "metadata": {},
     "outputs": [
      {
       "metadata": {},
       "output_type": "pyout",
       "prompt_number": 47,
       "text": [
        "<matplotlib.axes._subplots.AxesSubplot at 0xe4e1240>"
       ]
      },
      {
       "metadata": {},
       "output_type": "display_data",
       "png": "[encoded data removed]",
       "text": [
        "<matplotlib.figure.Figure at 0x360c4e10>"
       ]
      }
     ],
     "prompt_number": 47
    },
    {
     "cell_type": "code",
     "collapsed": false,
     "input": [
      "htmlContent = ''\n",
      "addContent( box(\"Q4. Match searches with bookings\") )\n",
      "from IPython.core.display import HTML\n",
      "HTML(htmlContent)"
     ],
     "language": "python",
     "metadata": {},
     "outputs": [
      {
       "html": [
        "<div style=\"border:1px dotted black;padding:2em;\"><h1>Q4. Match searches with bookings</h1></div>"
       ],
       "metadata": {},
       "output_type": "pyout",
       "prompt_number": 112,
       "text": [
        "<IPython.core.display.HTML at 0xec60c50>"
       ]
      }
     ],
     "prompt_number": 112
    },
    {
     "cell_type": "code",
     "collapsed": false,
     "input": [
      "from collections import Counter\n",
      "\n",
      "#------------------------------------------------------------------------------------\n",
      "#  function to compare two dataframes\n",
      "#------------------------------------------------------------------------------------\n",
      "def compare(search, booked):\n",
      "    \n",
      "    search_confirmed =0\n",
      "    for i, search_row in search.iterrows():\n",
      "        assert i in search.index, 'Expected row {!r} not found.'.format(i)\n",
      "        search_row = search.loc[i]\n",
      "        \n",
      "        #print search_row\n",
      "        for j, book_row in booked.iterrows():\n",
      "            \n",
      "            assert j in booked.index, 'Expected column {!r} not found.'.format(j)\n",
      "         \n",
      "            book_row = search.loc[j]\n",
      "            \n",
      "            # other more restricted field could be used\n",
      "            # as if the pax has specifically asked for a specific booking class\n",
      "            # in this condition, we chek : O&D, add stop, request and flight dates\n",
      "            if ( book_row['Flag'] == 0) &\\\n",
      "               ( book_row['Date'] >= search_row['Date'] )&\\\n",
      "               ( book_row['Time'] >= search_row['Time'] )&\\\n",
      "               ( book_row['Seg1Date'] == search_row['Seg1Date']) &\\\n",
      "               ( book_row['Origin'] == search_row['Origin']) &\\      \n",
      "               ( book_row['Destination'] == search_row['Destination']) &\\\n",
      "               ( book_row['NbSegments'] == search_row['NbSegments']):\n",
      "\n",
      "                book_row['Flag'] = \"1\" # in order to not parse several time this row\n",
      "                search_row['Flag'] = \"1\" # flag the search row which lead to a booking\n",
      "                #print book_row\n",
      "                search_confirmed +=1\n",
      "                break            \n",
      "                      \n",
      "    return search_confirmed\n",
      "\n",
      "#------------------------------------------------------------------------------------\n",
      "#  function to count the number of legs in the routing \n",
      "#------------------------------------------------------------------------------------\n",
      "def count_nblegs(word):\n",
      "    nb_leg = (len(word) - word.count(' '))/3-1\n",
      "    return nb_leg\n",
      "\n",
      "#------------------------------------------------------------------------------------\n",
      "# main function\n",
      "#------------------------------------------------------------------------------------\n",
      "def nb_search_confirmed(bif,saf):\n",
      "\n",
      "    #------------------------------------------------------------------------------------\n",
      "    #1- retrieve info in \"searches.csv\" and use a subset of data by randomly chosen rows\n",
      "    # (the output corresponds to a small dataset, this explains the low value)\n",
      "    #-----------------------------------------------------------------------------------\n",
      "    headers_searches = ['Date','Time','Origin','Destination','NbSegments','Seg1Date']\n",
      "    searches_data = pd.read_table(saf,sep='^', usecols=headers_searches, quotechar='|', \\\n",
      "                                  converters={'Origin':str,'Destination':str},skiprows=skiprows(20390199,20390199))   \n",
      "    searches_data.dropna(how='any',inplace=True) \n",
      "    \n",
      "    searches_data['Seg1Date'] = pd.DatetimeIndex(searches_data['Seg1Date']).normalize()\n",
      "    \n",
      "\n",
      "    #--------------------------------------------------------------------------------\n",
      "    #2- retrieve info in \"bookings.csv\"\n",
      "    #--------------------------------------------------------------------------------\n",
      "    headers_bookings = ['off_time           ','dep_port','arr_port','route          ','brd_time           '] \n",
      "    booking_data = pd.read_table(bif,sep='^', usecols=headers_bookings, quotechar='|', \\\n",
      "                                 converters={'dep_port':str,'arr_port':str,'route          ':str},\\\n",
      "                                 skiprows=skiprows(10000011,100011))\n",
      "    booking_data.dropna(how='any',inplace=True)\n",
      "    \n",
      "\n",
      "    #Transform format\n",
      "    booking_data['Date'] = pd.DatetimeIndex(booking_data['off_time           ']).normalize()\n",
      "    booking_data['Seg1Date'] = pd.DatetimeIndex(booking_data['brd_time           ']).normalize()\n",
      "    booking_data['Time'] = pd.DatetimeIndex(booking_data['off_time           ']).time  \n",
      "    booking_data['route          '] = booking_data['route          '].apply(lambda x: \\\n",
      "                                                   count_nblegs(str(x)) if(len(str(x)) != 'nan') else x)       \n",
      "    \n",
      "    booking_data = booking_data.drop('brd_time           ', 1)\n",
      "    booking_data = booking_data.drop('off_time           ', 1)\n",
      "    \n",
      "    booking_data = booking_data.rename \\\n",
      "                   (columns={'dep_port': 'Origin', 'arr_port': 'Destination','route          ': 'NbSegments'})\n",
      "        \n",
      "    #--------------------------------------------------------------------------------\n",
      "    # 3- additional field to check if the search ended up in a booking\n",
      "    #--------------------------------------------------------------------------------\n",
      "    booking_data['Flag']=0\n",
      "    searches_data['Flag']=0\n",
      "    \n",
      "    #--------------------------------------------------------------------------------\n",
      "    # 4- Call compare methods\n",
      "    #--------------------------------------------------------------------------------\n",
      "    count = compare(searches_data, booking_data)\n",
      "    \n",
      "    #--------------------------------------------------------------------------------\n",
      "    # 5- Put info related to searches in this csv file confirmed_searches.csv\n",
      "    #--------------------------------------------------------------------------------   \n",
      "    searches_data.to_csv(\"D:\\PERSO\\ISABELLE\\DataScientistTest\\confirmed_searches.csv\")\n",
      "    \n",
      "    return count\n",
      "    \n",
      "    \n",
      "nb_confirmed = nb_search_confirmed(\"bookings.csv\",\"searches.csv\")\n",
      "\n",
      "print \"the number of searches which lead to a bookings are :\",nb_confirmed"
     ],
     "language": "python",
     "metadata": {},
     "outputs": [
      {
       "output_type": "stream",
       "stream": "stdout",
       "text": [
        "the number of searches which lead to a bookings are : 708\n"
       ]
      }
     ],
     "prompt_number": 315
    },
    {
     "cell_type": "code",
     "collapsed": false,
     "input": [
      "htmlContent = ''\n",
      "addContent( box(\"Q5. Create a web service\") )\n",
      "from IPython.core.display import HTML\n",
      "HTML(htmlContent)"
     ],
     "language": "python",
     "metadata": {},
     "outputs": [
      {
       "html": [
        "<div style=\"border:1px dotted black;padding:2em;\"><h1>Q5. Create a web service</h1></div>"
       ],
       "metadata": {},
       "output_type": "pyout",
       "prompt_number": 123,
       "text": [
        "<IPython.core.display.HTML at 0x620739b0>"
       ]
      }
     ],
     "prompt_number": 123
    },
    {
     "cell_type": "code",
     "collapsed": false,
     "input": [
      "from IPython.html.widgets import interact\n",
      "import json\n",
      "\n",
      "class Object:\n",
      "    def to_JSON(self):\n",
      "        return json.dumps(self, default=lambda o: o.__dict__, \n",
      "            sort_keys=True, indent=4)\n",
      "    \n",
      "def build_json(n):\n",
      "    data = arr_airport_panda(n)\n",
      "    for i, data_row in data.iterrows():\n",
      "        search_row = data.loc[i]\n",
      "        airport = Object()\n",
      "        airport.name = str(search_row['arr_port'])\n",
      "        airport.pax = Object()\n",
      "        airport.pax.name = int(search_row['pax'])\n",
      "        airport.to_JSON()\n",
      "        print(airport.to_JSON())\n",
      " \n",
      "n = interact(build_json, n=(0,10))"
     ],
     "language": "python",
     "metadata": {},
     "outputs": [
      {
       "output_type": "stream",
       "stream": "stdout",
       "text": [
        "{\n",
        "    \"name\": \"LHR     \", \n",
        "    \"pax\": {\n",
        "        \"name\": 88809\n",
        "    }\n",
        "}\n",
        "{\n",
        "    \"name\": \"MCO     \", \n",
        "    \"pax\": {\n",
        "        \"name\": 70930\n",
        "    }\n",
        "}\n",
        "{\n",
        "    \"name\": \"LAX     \", \n",
        "    \"pax\": {\n",
        "        \"name\": 70530\n",
        "    }\n",
        "}\n",
        "{\n",
        "    \"name\": \"LAS     \", \n",
        "    \"pax\": {\n",
        "        \"name\": 69630\n",
        "    }\n",
        "}\n",
        "{\n",
        "    \"name\": \"JFK     \", \n",
        "    \"pax\": {\n",
        "        \"name\": 66270\n",
        "    }\n",
        "}\n"
       ]
      }
     ],
     "prompt_number": 5
    },
    {
     "cell_type": "code",
     "collapsed": false,
     "input": [],
     "language": "python",
     "metadata": {},
     "outputs": []
    }
   ],
   "metadata": {}
  }
 ]
}