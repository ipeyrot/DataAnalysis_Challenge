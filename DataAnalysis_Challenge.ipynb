{
 "metadata": {
  "name": "",
  "signature": "sha256:083138078fc8445263c5d3f74e0f715f84ea672c36fe8090eb902a28fb684d2a"
 },
 "nbformat": 3,
 "nbformat_minor": 0,
 "worksheets": [
  {
   "cells": [
    {
     "cell_type": "code",
     "collapsed": false,
     "input": [
      "import os\n",
      "import csv\n",
      "import pandas as pd\n",
      "import numpy as np\n",
      "#from GeoBases import GeoBase\n",
      "\n",
      "pd.set_option('display.mpl_style', 'default')\n",
      "\n",
      "htmlContent = ''\n",
      "\n",
      "def header(text):\n",
      "    raw_html = '<h1>' + str(text) + '</h1>'\n",
      "    return raw_html\n",
      "\n",
      "def box(text):\n",
      "    raw_html = '<div style=\"border:1px dotted black;padding:2em;\"><h1>' +str(text)+'</h1></div>'\n",
      "    return raw_html\n",
      "\n",
      "def addContent(raw_html):\n",
      "    global htmlContent\n",
      "    htmlContent += raw_html\n",
      "\n",
      "addContent( header(\"Data Analysis Challenge\") )\n",
      "from IPython.core.display import HTML\n",
      "HTML(htmlContent)\n"
     ],
     "language": "python",
     "metadata": {},
     "outputs": [
      {
       "html": [
        "<h1>Data Analysis Challenge</h1>"
       ],
       "metadata": {},
       "output_type": "pyout",
       "prompt_number": 1,
       "text": [
        "<IPython.core.display.HTML at 0x3e54080>"
       ]
      }
     ],
     "prompt_number": 1
    },
    {
     "cell_type": "code",
     "collapsed": false,
     "input": [
      "# Check current working directory.\n",
      "my_directory = os.getcwd()\n",
      "print \"Current working directory %s\" % my_directory\n",
      "\n",
      "path = \"D:/PERSO/ISABELLE/DataScientistTest\"\n",
      "\n",
      "# Now change the directory\n",
      "os.chdir(path)\n",
      "\n",
      "# Check current working directory.\n",
      "my_directory = os.getcwd()\n",
      "\n",
      "print \"Directory changed successfully %s\" % my_directory"
     ],
     "language": "python",
     "metadata": {},
     "outputs": [
      {
       "output_type": "stream",
       "stream": "stdout",
       "text": [
        "Current working directory C:\\Users\\User\\Documents\\IPython Notebooks\n",
        "Directory changed successfully D:\\PERSO\\ISABELLE\\DataScientistTest\n"
       ]
      }
     ],
     "prompt_number": 2
    },
    {
     "cell_type": "code",
     "collapsed": false,
     "input": [
      "htmlContent = ''\n",
      "addContent( box(\"Reading the attributes of both files \") )\n",
      "from IPython.core.display import HTML\n",
      "HTML(htmlContent)"
     ],
     "language": "python",
     "metadata": {},
     "outputs": [
      {
       "html": [
        "<div style=\"border:1px dotted black;padding:2em;\"><h1>Reading the attributes of both files </h1></div>"
       ],
       "metadata": {},
       "output_type": "pyout",
       "prompt_number": 3,
       "text": [
        "<IPython.core.display.HTML at 0x3e0c5f8>"
       ]
      }
     ],
     "prompt_number": 3
    },
    {
     "cell_type": "code",
     "collapsed": false,
     "input": [
      "# read the first line of the searching file \n",
      "\n",
      "N=1\n",
      "f=open(\"searches.csv\")\n",
      "for i in range(N):\n",
      "    line=f.next().strip()\n",
      "    print line\n",
      "f.close()\n",
      "\n",
      "# conclusion : delimiter is '^'"
     ],
     "language": "python",
     "metadata": {},
     "outputs": [
      {
       "output_type": "stream",
       "stream": "stdout",
       "text": [
        "Date^Time^TxnCode^OfficeID^Country^Origin^Destination^RoundTrip^NbSegments^Seg1Departure^Seg1Arrival^Seg1Date^Seg1Carrier^Seg1BookingCode^Seg2Departure^Seg2Arrival^Seg2Date^Seg2Carrier^Seg2BookingCode^Seg3Departure^Seg3Arrival^Seg3Date^Seg3Carrier^Seg3BookingCode^Seg4Departure^Seg4Arrival^Seg4Date^Seg4Carrier^Seg4BookingCode^Seg5Departure^Seg5Arrival^Seg5Date^Seg5Carrier^Seg5BookingCode^Seg6Departure^Seg6Arrival^Seg6Date^Seg6Carrier^Seg6BookingCode^From^IsPublishedForNeg^IsFromInternet^IsFromVista^TerminalID^InternetOffice\n"
       ]
      }
     ],
     "prompt_number": 5
    },
    {
     "cell_type": "code",
     "collapsed": false,
     "input": [
      "# read the first line of the booking file\n",
      "\n",
      "N=1\n",
      "f=open(\"bookings.csv\")\n",
      "for i in range(N):\n",
      "    line=f.next().strip()\n",
      "    print line\n",
      "f.close()\n"
     ],
     "language": "python",
     "metadata": {},
     "outputs": [
      {
       "output_type": "stream",
       "stream": "stdout",
       "text": [
        "act_date           ^source^pos_ctry^pos_iata^pos_oid  ^rloc          ^cre_date           ^duration^distance^dep_port^dep_city^dep_ctry^arr_port^arr_city^arr_ctry^lst_port^lst_city^lst_ctry^brd_port^brd_city^brd_ctry^off_port^off_city^off_ctry^mkt_port^mkt_city^mkt_ctry^intl^route          ^carrier^bkg_class^cab_class^brd_time           ^off_time           ^pax^year^month^oid\n"
       ]
      }
     ],
     "prompt_number": 6
    },
    {
     "cell_type": "code",
     "collapsed": false,
     "input": [
      "htmlContent = ''\n",
      "addContent( box(\"Q1. Count the number of lines for each file\") )\n",
      "from IPython.core.display import HTML\n",
      "HTML(htmlContent)"
     ],
     "language": "python",
     "metadata": {},
     "outputs": [
      {
       "html": [
        "<div style=\"border:1px dotted black;padding:2em;\"><h1>Q1. Count the number of lines for each file</h1></div>"
       ],
       "metadata": {},
       "output_type": "pyout",
       "prompt_number": 7,
       "text": [
        "<IPython.core.display.HTML at 0x3fc1fd0>"
       ]
      }
     ],
     "prompt_number": 7
    },
    {
     "cell_type": "code",
     "collapsed": false,
     "input": [
      "def counter_line(fname):\n",
      "    count = 0\n",
      "    try:\n",
      "        f = open(fname, 'r')\n",
      "        while(f.next()):\n",
      "            count+=1\n",
      "    except:\n",
      "        pass\n",
      "\n",
      "    return count\n",
      "\n",
      "srch_lines = counter_line(\"searches.csv\")\n",
      "print \"the number of lines in searching.csv are %s\" % srch_lines\n",
      "\n",
      "booking_lines = counter_line(\"bookings.csv\")\n",
      "print \"the number of lines in bookings.csv are %s\" % booking_lines"
     ],
     "language": "python",
     "metadata": {},
     "outputs": [
      {
       "output_type": "stream",
       "stream": "stdout",
       "text": [
        "the number of lines in searching.csv are 20390199\n",
        "the number of lines in bookings.csv are 10000011"
       ]
      },
      {
       "output_type": "stream",
       "stream": "stdout",
       "text": [
        "\n"
       ]
      }
     ],
     "prompt_number": 10
    },
    {
     "cell_type": "code",
     "collapsed": false,
     "input": [
      "htmlContent = ''\n",
      "addContent( box(\"Q2. top 10 arrival airports in the world in 2013\") )\n",
      "from IPython.core.display import HTML\n",
      "HTML(htmlContent)"
     ],
     "language": "python",
     "metadata": {},
     "outputs": []
    },
    {
     "cell_type": "code",
     "collapsed": false,
     "input": [
      "#0 - Identify the index : year, arr_airport and pax\n",
      "fh = open(\"bookings.csv\", 'rb')\n",
      "try:\n",
      "    for row in csv.reader(fh,delimiter=\"^\"):\n",
      "        print row.index('arr_port')\n",
      "        print row.index('pax')\n",
      "        print row.index('year')\n",
      "        break  \n",
      "finally:\n",
      "    fh.close() "
     ],
     "language": "python",
     "metadata": {},
     "outputs": [
      {
       "output_type": "stream",
       "stream": "stdout",
       "text": [
        "12\n",
        "34\n",
        "35\n"
       ]
      }
     ],
     "prompt_number": 3
    },
    {
     "cell_type": "code",
     "collapsed": false,
     "input": [
      "def arr_airport(n):\n",
      "\n",
      "    lairport = []\n",
      "    lpax = {} # will contain item 'airport:nb_pax'\n",
      "    \n",
      "    #1 - Create a list containing the nb passengers per arrival airport\n",
      "    fh = open(\"bookings.csv\", 'rb')\n",
      "    try:\n",
      "        N=0\n",
      "        for row in csv.reader(fh,delimiter=\"^\"):\n",
      "            try:\n",
      "                year = row[35]\n",
      "                #print type(pax)\n",
      "                #print arr_airport, year, nb_passengers\n",
      "                N+=1\n",
      "                if(N>999999):\n",
      "                    break\n",
      "                if year == \"2013\":\n",
      "                    arr_airport = row[12]\n",
      "                    nb_pax = int(row[34])\n",
      "                    if arr_airport in lairport:\n",
      "                        lpax[arr_airport] += nb_pax\n",
      "                    else:\n",
      "                        lpax[arr_airport] = 0\n",
      "                        lairport.append(arr_airport)\n",
      "            except IndexError:\n",
      "                pass\n",
      "    finally:\n",
      "        fh.close()\n",
      "\n",
      "    #2 - Ordering and add the corresponding city code\n",
      "    print \"airport  | number of pax\"\n",
      "    i=0\n",
      "    for key, value in sorted(lpax.iteritems(), key=lambda (k,v): (v,k),reverse=True):\n",
      "       # geo_o = GeoBase(data='ori_por', verbose=False) #issue with install....\n",
      "       # city = geo_o.get(key,'city_code')\n",
      "        print \"%s | %s\" % (key, value)\n",
      "        if(i == 10):\n",
      "            break\n",
      "        i+=1\n",
      "\n",
      "    return 1\n",
      "    \n",
      "top10 = arr_airport(10)"
     ],
     "language": "python",
     "metadata": {},
     "outputs": [
      {
       "output_type": "stream",
       "stream": "stdout",
       "text": [
        "airport  | number of pax\n",
        "LHR      | 8882\n",
        "MCO      | 7094\n",
        "LAX      | 7052\n",
        "LAS      | 6959\n",
        "JFK      | 6626\n",
        "CDG      | 6448\n",
        "BKK      | 5945\n",
        "MIA      | 5810\n",
        "SFO      | 5799\n",
        "DXB      | 5558\n",
        "ORD      | 5319\n"
       ]
      }
     ],
     "prompt_number": 3
    },
    {
     "cell_type": "code",
     "collapsed": false,
     "input": [
      "## doing the same by using panda\n",
      "def arr_airport_panda(n):\n",
      "    \n",
      "    column_names = [\"arr_airport\",\"pax\",\"year\"]\n",
      "    bif = pd.read_table('bookings.csv',sep='^',names=column_names)\n",
      "    \n",
      "    print bif.head()\n",
      "\n",
      "    # group information by arr_airport\n",
      "    pax_group = bif.group_by('arr_airport')\n",
      "    pax_group.sum()\n",
      "    pax_group.sort(columns='pax').head(10)\n",
      "\n",
      "    #my_plot=pax_group.sort(columns='pax',ascending=false).plot(kind='bar',legend=None,title='10 most frequently airports')\n",
      "    \n",
      "    return 1\n",
      "\n",
      "top10 = arr_airport_panda(10)\n"
     ],
     "language": "python",
     "metadata": {},
     "outputs": []
    },
    {
     "cell_type": "code",
     "collapsed": false,
     "input": [],
     "language": "python",
     "metadata": {},
     "outputs": []
    }
   ],
   "metadata": {}
  }
 ]
}