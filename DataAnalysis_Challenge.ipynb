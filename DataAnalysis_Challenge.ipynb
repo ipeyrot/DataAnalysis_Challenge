{
 "metadata": {
  "name": "",
  "signature": "sha256:867680bd50d9b6d0b4ed2b0396506d3626db350dcbccb597ae68bb6d97276797"
 },
 "nbformat": 3,
 "nbformat_minor": 0,
 "worksheets": [
  {
   "cells": [
    {
     "cell_type": "code",
     "collapsed": false,
     "input": [
      "import os\n",
      "import csv\n",
      "import pandas as pd\n",
      "import numpy as np\n",
      "import matplotlib.pyplot as plt\n",
      "from GeoBases import GeoBase\n",
      "\n",
      "pd.set_option('display.mpl_style', 'default')\n",
      "\n",
      "htmlContent = ''\n",
      "\n",
      "def header(text):\n",
      " raw_html = '<h1>' + str(text) + '</h1>'\n",
      " return raw_html\n",
      "\n",
      "def box(text):\n",
      " raw_html = '<div style=\"border:1px dotted black;padding:2em;\"><h1>' +str(text)+'</h1></div>'\n",
      " return raw_html\n",
      "\n",
      "def addContent(raw_html):\n",
      " global htmlContent\n",
      " htmlContent += raw_html\n",
      "\n",
      "addContent( header(\"Data Analysis Challenge\") )\n",
      "from IPython.core.display import HTML\n",
      "HTML(htmlContent)\n"
     ],
     "language": "python",
     "metadata": {},
     "outputs": [
      {
       "html": [
        "<h1>Data Analysis Challenge</h1>"
       ],
       "metadata": {},
       "output_type": "pyout",
       "prompt_number": 1,
       "text": [
        "<IPython.core.display.HTML at 0xc53b438>"
       ]
      }
     ],
     "prompt_number": 1
    },
    {
     "cell_type": "code",
     "collapsed": false,
     "input": [
      "# Check current working directory.\n",
      "my_directory = os.getcwd()\n",
      "print \"Current working directory %s\" % my_directory\n",
      "\n",
      "path = \"D:/PERSO/ISABELLE/DataScientistTest\"\n",
      "\n",
      "# Now change the directory\n",
      "os.chdir(path)\n",
      "\n",
      "# Check current working directory.\n",
      "my_directory = os.getcwd()\n",
      "\n",
      "print \"Directory changed successfully %s\" % my_directory"
     ],
     "language": "python",
     "metadata": {},
     "outputs": [
      {
       "output_type": "stream",
       "stream": "stdout",
       "text": [
        "Current working directory C:\\Users\\User\\Documents\\IPython Notebooks\n",
        "Directory changed successfully D:\\PERSO\\ISABELLE\\DataScientistTest\n"
       ]
      }
     ],
     "prompt_number": 2
    },
    {
     "cell_type": "code",
     "collapsed": false,
     "input": [
      "import pip\n",
      "\n",
      "def install(package):\n",
      "    pip.main(['install',package])\n",
      "\n",
      "install('GeoBases')"
     ],
     "language": "python",
     "metadata": {},
     "outputs": [
      {
       "output_type": "stream",
       "stream": "stdout",
       "text": [
        "Requirement already satisfied (use --upgrade to upgrade): GeoBases in c:\\users\\user\\appdata\\roaming\\python\\python27\\site-packages\\geobases-5.0.16-py2.7.egg\n"
       ]
      },
      {
       "output_type": "stream",
       "stream": "stdout",
       "text": [
        "Requirement already satisfied (use --upgrade to upgrade): pyyaml in c:\\users\\user\\anaconda\\lib\\site-packages (from GeoBases)\n"
       ]
      },
      {
       "output_type": "stream",
       "stream": "stdout",
       "text": [
        "Downloading/unpacking python-geohash (from GeoBases)\n"
       ]
      },
      {
       "output_type": "stream",
       "stream": "stdout",
       "text": [
        "  Downloading python-geohash-0.8.5.tar.gz\n"
       ]
      },
      {
       "output_type": "stream",
       "stream": "stdout",
       "text": [
        "  Running setup.py (path:c:\\users\\user\\appdata\\local\\temp\\pip_build_User\\python-geohash\\setup.py) egg_info for package python-geohash\n"
       ]
      },
      {
       "output_type": "stream",
       "stream": "stdout",
       "text": [
        "    \n"
       ]
      },
      {
       "output_type": "stream",
       "stream": "stdout",
       "text": [
        "Downloading/unpacking python-Levenshtein (from GeoBases)\n"
       ]
      },
      {
       "output_type": "stream",
       "stream": "stdout",
       "text": [
        "  Running setup.py (path:c:\\users\\user\\appdata\\local\\temp\\pip_build_User\\python-Levenshtein\\setup.py) egg_info for package python-Levenshtein\n"
       ]
      },
      {
       "output_type": "stream",
       "stream": "stdout",
       "text": [
        "    \n"
       ]
      },
      {
       "output_type": "stream",
       "stream": "stdout",
       "text": [
        "    warning: no previously-included files matching '*pyc' found anywhere in distribution\n"
       ]
      },
      {
       "output_type": "stream",
       "stream": "stdout",
       "text": [
        "    warning: no previously-included files matching '*so' found anywhere in distribution\n"
       ]
      },
      {
       "output_type": "stream",
       "stream": "stdout",
       "text": [
        "    warning: no previously-included files matching '.project' found anywhere in distribution\n"
       ]
      },
      {
       "output_type": "stream",
       "stream": "stdout",
       "text": [
        "    warning: no previously-included files matching '.pydevproject' found anywhere in distribution\n"
       ]
      },
      {
       "output_type": "stream",
       "stream": "stdout",
       "text": [
        "Downloading/unpacking fuzzy (from GeoBases)\n"
       ]
      },
      {
       "output_type": "stream",
       "stream": "stdout",
       "text": [
        "  Downloading Fuzzy-1.0.tar.gz\n"
       ]
      },
      {
       "output_type": "stream",
       "stream": "stdout",
       "text": [
        "  Running setup.py (path:c:\\users\\user\\appdata\\local\\temp\\pip_build_User\\fuzzy\\setup.py) egg_info for package fuzzy\n"
       ]
      },
      {
       "output_type": "stream",
       "stream": "stdout",
       "text": [
        "    \n"
       ]
      },
      {
       "output_type": "stream",
       "stream": "stdout",
       "text": [
        "Requirement already satisfied (use --upgrade to upgrade): argparse in c:\\users\\user\\appdata\\roaming\\python\\python27\\site-packages\\argparse-1.3.0-py2.7.egg (from GeoBases)\n"
       ]
      },
      {
       "output_type": "stream",
       "stream": "stdout",
       "text": [
        "Requirement already satisfied (use --upgrade to upgrade): termcolor in c:\\users\\user\\appdata\\roaming\\python\\python27\\site-packages\\termcolor-1.1.0-py2.7.egg (from GeoBases)\n"
       ]
      },
      {
       "output_type": "stream",
       "stream": "stdout",
       "text": [
        "Requirement already satisfied (use --upgrade to upgrade): colorama in c:\\users\\user\\anaconda\\lib\\site-packages (from GeoBases)\n"
       ]
      },
      {
       "output_type": "stream",
       "stream": "stdout",
       "text": [
        "Requirement already satisfied (use --upgrade to upgrade): setuptools in c:\\users\\user\\anaconda\\lib\\site-packages\\setuptools-5.8-py2.7.egg (from python-Levenshtein->GeoBases)\n"
       ]
      },
      {
       "output_type": "stream",
       "stream": "stdout",
       "text": [
        "Installing collected packages: python-geohash, python-Levenshtein, fuzzy\n"
       ]
      },
      {
       "output_type": "stream",
       "stream": "stdout",
       "text": [
        "  Running setup.py install for python-geohash\n"
       ]
      },
      {
       "output_type": "stream",
       "stream": "stdout",
       "text": [
        "    building '_geohash' extension\n"
       ]
      },
      {
       "output_type": "stream",
       "stream": "stdout",
       "text": [
        "    C:\\Users\\User\\Anaconda\\Scripts\\gcc.bat -DMS_WIN64 -mdll -O -Wall -DPYTHON_MODULE=1 -IC:\\Users\\User\\Anaconda\\include -IC:\\Users\\User\\Anaconda\\PC -c src/geohash.cpp -o build\\temp.win-amd64-2.7\\Release\\src\\geohash.o\n"
       ]
      },
      {
       "output_type": "stream",
       "stream": "stdout",
       "text": [
        "    C:\\Users\\User\\Anaconda\\Scripts\\g++.bat -DMS_WIN64 -shared -s build\\temp.win-amd64-2.7\\Release\\src\\geohash.o build\\temp.win-amd64-2.7\\Release\\src\\_geohash.def -LC:\\Users\\User\\Anaconda\\libs -LC:\\Users\\User\\Anaconda\\PCbuild\\amd64 -lpython27 -lmsvcr90 -o build\\lib.win-amd64-2.7\\_geohash.pyd\n"
       ]
      },
      {
       "output_type": "stream",
       "stream": "stdout",
       "text": [
        "    \n"
       ]
      },
      {
       "output_type": "stream",
       "stream": "stdout",
       "text": [
        "  Running setup.py install for python-Levenshtein\n"
       ]
      },
      {
       "output_type": "stream",
       "stream": "stdout",
       "text": [
        "    \n"
       ]
      },
      {
       "output_type": "stream",
       "stream": "stdout",
       "text": [
        "    warning: no previously-included files matching '*pyc' found anywhere in distribution\n"
       ]
      },
      {
       "output_type": "stream",
       "stream": "stdout",
       "text": [
        "    warning: no previously-included files matching '*so' found anywhere in distribution\n"
       ]
      },
      {
       "output_type": "stream",
       "stream": "stdout",
       "text": [
        "    warning: no previously-included files matching '.project' found anywhere in distribution\n"
       ]
      },
      {
       "output_type": "stream",
       "stream": "stdout",
       "text": [
        "    warning: no previously-included files matching '.pydevproject' found anywhere in distribution\n"
       ]
      },
      {
       "output_type": "stream",
       "stream": "stdout",
       "text": [
        "    building 'Levenshtein._levenshtein' extension\n"
       ]
      },
      {
       "output_type": "stream",
       "stream": "stdout",
       "text": [
        "    C:\\Users\\User\\Anaconda\\Scripts\\gcc.bat -DMS_WIN64 -mdll -O -Wall -IC:\\Users\\User\\Anaconda\\include -IC:\\Users\\User\\Anaconda\\PC -c Levenshtein/_levenshtein.c -o build\\temp.win-amd64-2.7\\Release\\levenshtein\\_levenshtein.o\n"
       ]
      },
      {
       "output_type": "stream",
       "stream": "stdout",
       "text": [
        "    Levenshtein/_levenshtein.c: In function 'levenshtein_common':\n"
       ]
      },
      {
       "output_type": "stream",
       "stream": "stdout",
       "text": [
        "    Levenshtein/_levenshtein.c:711:13: warning: pointer targets in assignment differ in signedness [-Wpointer-sign]\n"
       ]
      },
      {
       "output_type": "stream",
       "stream": "stdout",
       "text": [
        "    Levenshtein/_levenshtein.c:712:13: warning: pointer targets in assignment differ in signedness [-Wpointer-sign]\n"
       ]
      },
      {
       "output_type": "stream",
       "stream": "stdout",
       "text": [
        "    Levenshtein/_levenshtein.c: In function 'hamming_py':\n"
       ]
      },
      {
       "output_type": "stream",
       "stream": "stdout",
       "text": [
        "    Levenshtein/_levenshtein.c:796:13: warning: pointer targets in assignment differ in signedness [-Wpointer-sign]\n"
       ]
      },
      {
       "output_type": "stream",
       "stream": "stdout",
       "text": [
        "    Levenshtein/_levenshtein.c:797:13: warning: pointer targets in assignment differ in signedness [-Wpointer-sign]\n"
       ]
      },
      {
       "output_type": "stream",
       "stream": "stdout",
       "text": [
        "    Levenshtein/_levenshtein.c: In function 'jaro_py':\n"
       ]
      },
      {
       "output_type": "stream",
       "stream": "stdout",
       "text": [
        "    Levenshtein/_levenshtein.c:840:13: warning: pointer targets in assignment differ in signedness [-Wpointer-sign]\n"
       ]
      },
      {
       "output_type": "stream",
       "stream": "stdout",
       "text": [
        "    Levenshtein/_levenshtein.c:841:13: warning: pointer targets in assignment differ in signedness [-Wpointer-sign]\n"
       ]
      },
      {
       "output_type": "stream",
       "stream": "stdout",
       "text": [
        "    Levenshtein/_levenshtein.c: In function 'jaro_winkler_py':\n"
       ]
      },
      {
       "output_type": "stream",
       "stream": "stdout",
       "text": [
        "    Levenshtein/_levenshtein.c:890:13: warning: pointer targets in assignment differ in signedness [-Wpointer-sign]\n"
       ]
      },
      {
       "output_type": "stream",
       "stream": "stdout",
       "text": [
        "    Levenshtein/_levenshtein.c:891:13: warning: pointer targets in assignment differ in signedness [-Wpointer-sign]\n"
       ]
      },
      {
       "output_type": "stream",
       "stream": "stdout",
       "text": [
        "    Levenshtein/_levenshtein.c: In function 'median_common':\n"
       ]
      },
      {
       "output_type": "stream",
       "stream": "stdout",
       "text": [
        "    Levenshtein/_levenshtein.c:992:7: warning: pointer targets in passing argument 1 of 'PyString_FromStringAndSize' differ in signedness [-Wpointer-sign]\n"
       ]
      },
      {
       "output_type": "stream",
       "stream": "stdout",
       "text": [
        "    In file included from C:\\Users\\User\\Anaconda\\include/Python.h:94:0,\n"
       ]
      },
      {
       "output_type": "stream",
       "stream": "stdout",
       "text": [
        "                     from Levenshtein/_levenshtein.c:99:\n"
       ]
      },
      {
       "output_type": "stream",
       "stream": "stdout",
       "text": [
        "    C:\\Users\\User\\Anaconda\\include/stringobject.h:62:24: note: expected 'const char *' but argument is of type 'lev_byte *'\n"
       ]
      },
      {
       "output_type": "stream",
       "stream": "stdout",
       "text": [
        "    Levenshtein/_levenshtein.c: In function 'median_improve_common':\n"
       ]
      },
      {
       "output_type": "stream",
       "stream": "stdout",
       "text": [
        "    Levenshtein/_levenshtein.c:1071:19: warning: pointer targets in initialization differ in signedness [-Wpointer-sign]\n"
       ]
      },
      {
       "output_type": "stream",
       "stream": "stdout",
       "text": [
        "    Levenshtein/_levenshtein.c:1077:7: warning: pointer targets in passing argument 1 of 'PyString_FromStringAndSize' differ in signedness [-Wpointer-sign]\n"
       ]
      },
      {
       "output_type": "stream",
       "stream": "stdout",
       "text": [
        "    In file included from C:\\Users\\User\\Anaconda\\include/Python.h:94:0,\n"
       ]
      },
      {
       "output_type": "stream",
       "stream": "stdout",
       "text": [
        "                     from Levenshtein/_levenshtein.c:99:\n"
       ]
      },
      {
       "output_type": "stream",
       "stream": "stdout",
       "text": [
        "    C:\\Users\\User\\Anaconda\\include/stringobject.h:62:24: note: expected 'const char *' but argument is of type 'lev_byte *'\n"
       ]
      },
      {
       "output_type": "stream",
       "stream": "stdout",
       "text": [
        "    Levenshtein/_levenshtein.c: In function 'extract_weightlist':\n"
       ]
      },
      {
       "output_type": "stream",
       "stream": "stdout",
       "text": [
        "    Levenshtein/_levenshtein.c:1118:20: warning: format '%i' expects argument of type 'int', but argument 4 has type 'size_t' [-Wformat]\n"
       ]
      },
      {
       "output_type": "stream",
       "stream": "stdout",
       "text": [
        "    Levenshtein/_levenshtein.c:1118:20: warning: format '%i' expects argument of type 'int', but argument 5 has type 'Py_ssize_t' [-Wformat]\n"
       ]
      },
      {
       "output_type": "stream",
       "stream": "stdout",
       "text": [
        "    Levenshtein/_levenshtein.c:1132:22: warning: format '%i' expects argument of type 'int', but argument 4 has type 'size_t' [-Wformat]\n"
       ]
      },
      {
       "output_type": "stream",
       "stream": "stdout",
       "text": [
        "    Levenshtein/_levenshtein.c:1141:22: warning: format '%i' expects argument of type 'int', but argument 4 has type 'size_t' [-Wformat]\n"
       ]
      },
      {
       "output_type": "stream",
       "stream": "stdout",
       "text": [
        "    Levenshtein/_levenshtein.c: In function 'extract_stringlist':\n"
       ]
      },
      {
       "output_type": "stream",
       "stream": "stdout",
       "text": [
        "    Levenshtein/_levenshtein.c:1201:16: warning: pointer targets in assignment differ in signedness [-Wpointer-sign]\n"
       ]
      },
      {
       "output_type": "stream",
       "stream": "stdout",
       "text": [
        "    Levenshtein/_levenshtein.c:1210:22: warning: format '%i' expects argument of type 'int', but argument 4 has type 'size_t' [-Wformat]\n"
       ]
      },
      {
       "output_type": "stream",
       "stream": "stdout",
       "text": [
        "    Levenshtein/_levenshtein.c:1213:18: warning: pointer targets in assignment differ in signedness [-Wpointer-sign]\n"
       ]
      },
      {
       "output_type": "stream",
       "stream": "stdout",
       "text": [
        "    Levenshtein/_levenshtein.c:1246:22: warning: format '%i' expects argument of type 'int', but argument 4 has type 'size_t' [-Wformat]\n"
       ]
      },
      {
       "output_type": "stream",
       "stream": "stdout",
       "text": [
        "    Levenshtein/_levenshtein.c: In function 'editops_py':\n"
       ]
      },
      {
       "output_type": "stream",
       "stream": "stdout",
       "text": [
        "    Levenshtein/_levenshtein.c:1650:13: warning: pointer targets in assignment differ in signedness [-Wpointer-sign]\n"
       ]
      },
      {
       "output_type": "stream",
       "stream": "stdout",
       "text": [
        "    Levenshtein/_levenshtein.c:1651:13: warning: pointer targets in assignment differ in signedness [-Wpointer-sign]\n"
       ]
      },
      {
       "output_type": "stream",
       "stream": "stdout",
       "text": [
        "    Levenshtein/_levenshtein.c: In function 'opcodes_py':\n"
       ]
      },
      {
       "output_type": "stream",
       "stream": "stdout",
       "text": [
        "    Levenshtein/_levenshtein.c:1768:13: warning: pointer targets in assignment differ in signedness [-Wpointer-sign]\n"
       ]
      },
      {
       "output_type": "stream",
       "stream": "stdout",
       "text": [
        "    Levenshtein/_levenshtein.c:1769:13: warning: pointer targets in assignment differ in signedness [-Wpointer-sign]\n"
       ]
      },
      {
       "output_type": "stream",
       "stream": "stdout",
       "text": [
        "    Levenshtein/_levenshtein.c: In function 'apply_edit_py':\n"
       ]
      },
      {
       "output_type": "stream",
       "stream": "stdout",
       "text": [
        "    Levenshtein/_levenshtein.c:1863:13: warning: pointer targets in assignment differ in signedness [-Wpointer-sign]\n"
       ]
      },
      {
       "output_type": "stream",
       "stream": "stdout",
       "text": [
        "    Levenshtein/_levenshtein.c:1864:13: warning: pointer targets in assignment differ in signedness [-Wpointer-sign]\n"
       ]
      },
      {
       "output_type": "stream",
       "stream": "stdout",
       "text": [
        "    Levenshtein/_levenshtein.c:1878:7: warning: pointer targets in passing argument 1 of 'PyString_FromStringAndSize' differ in signedness [-Wpointer-sign]\n"
       ]
      },
      {
       "output_type": "stream",
       "stream": "stdout",
       "text": [
        "    In file included from C:\\Users\\User\\Anaconda\\include/Python.h:94:0,\n"
       ]
      },
      {
       "output_type": "stream",
       "stream": "stdout",
       "text": [
        "                     from Levenshtein/_levenshtein.c:99:\n"
       ]
      },
      {
       "output_type": "stream",
       "stream": "stdout",
       "text": [
        "    C:\\Users\\User\\Anaconda\\include/stringobject.h:62:24: note: expected 'const char *' but argument is of type 'lev_byte *'\n"
       ]
      },
      {
       "output_type": "stream",
       "stream": "stdout",
       "text": [
        "    Levenshtein/_levenshtein.c:1894:7: warning: pointer targets in passing argument 1 of 'PyString_FromStringAndSize' differ in signedness [-Wpointer-sign]\n"
       ]
      },
      {
       "output_type": "stream",
       "stream": "stdout",
       "text": [
        "    In file included from C:\\Users\\User\\Anaconda\\include/Python.h:94:0,\n"
       ]
      },
      {
       "output_type": "stream",
       "stream": "stdout",
       "text": [
        "                     from Levenshtein/_levenshtein.c:99:\n"
       ]
      },
      {
       "output_type": "stream",
       "stream": "stdout",
       "text": [
        "    C:\\Users\\User\\Anaconda\\include/stringobject.h:62:24: note: expected 'const char *' but argument is of type 'lev_byte *'\n"
       ]
      },
      {
       "output_type": "stream",
       "stream": "stdout",
       "text": [
        "    Levenshtein/_levenshtein.c: At top level:\n"
       ]
      },
      {
       "output_type": "stream",
       "stream": "stdout",
       "text": [
        "    Levenshtein/_levenshtein.c:6630:1: warning: 'lev_editops_total_cost' defined but not used [-Wunused-function]\n"
       ]
      },
      {
       "output_type": "stream",
       "stream": "stdout",
       "text": [
        "    Levenshtein/_levenshtein.c:6700:1: warning: 'lev_opcodes_total_cost' defined but not used [-Wunused-function]\n"
       ]
      },
      {
       "output_type": "stream",
       "stream": "stdout",
       "text": [
        "    Levenshtein/_levenshtein.c:6655:1: warning: 'lev_editops_normalize' defined but not used [-Wunused-function]\n"
       ]
      },
      {
       "output_type": "stream",
       "stream": "stdout",
       "text": [
        "    Levenshtein/_levenshtein.c:2371:1: warning: 'lev_edit_distance_sod' defined but not used [-Wunused-function]\n"
       ]
      },
      {
       "output_type": "stream",
       "stream": "stdout",
       "text": [
        "    Levenshtein/_levenshtein.c:2550:1: warning: 'lev_u_edit_distance_sod' defined but not used [-Wunused-function]\n"
       ]
      },
      {
       "output_type": "stream",
       "stream": "stdout",
       "text": [
        "    C:\\Users\\User\\Anaconda\\Scripts\\gcc.bat -DMS_WIN64 -shared -s build\\temp.win-amd64-2.7\\Release\\levenshtein\\_levenshtein.o build\\temp.win-amd64-2.7\\Release\\levenshtein\\_levenshtein.def -LC:\\Users\\User\\Anaconda\\libs -LC:\\Users\\User\\Anaconda\\PCbuild\\amd64 -lpython27 -lmsvcr90 -o build\\lib.win-amd64-2.7\\Levenshtein\\_levenshtein.pyd\n"
       ]
      },
      {
       "output_type": "stream",
       "stream": "stdout",
       "text": [
        "  Running setup.py install for fuzzy\n"
       ]
      },
      {
       "output_type": "stream",
       "stream": "stdout",
       "text": [
        "    building 'fuzzy' extension\n"
       ]
      },
      {
       "output_type": "stream",
       "stream": "stdout",
       "text": [
        "    C:\\Users\\User\\Anaconda\\Scripts\\gcc.bat -DMS_WIN64 -mdll -O -Wall -IC:\\Users\\User\\Anaconda\\include -IC:\\Users\\User\\Anaconda\\PC -c src/fuzzy.c -o build\\temp.win-amd64-2.7\\Release\\src\\fuzzy.o\n"
       ]
      },
      {
       "output_type": "stream",
       "stream": "stdout",
       "text": [
        "    C:\\Users\\User\\Anaconda\\Scripts\\gcc.bat -DMS_WIN64 -mdll -O -Wall -IC:\\Users\\User\\Anaconda\\include -IC:\\Users\\User\\Anaconda\\PC -c src/double_metaphone.c -o build\\temp.win-amd64-2.7\\Release\\src\\double_metaphone.o\n"
       ]
      },
      {
       "output_type": "stream",
       "stream": "stdout",
       "text": [
        "    C:\\Users\\User\\Anaconda\\Scripts\\gcc.bat -DMS_WIN64 -shared -s build\\temp.win-amd64-2.7\\Release\\src\\fuzzy.o build\\temp.win-amd64-2.7\\Release\\src\\double_metaphone.o build\\temp.win-amd64-2.7\\Release\\src\\fuzzy.def -LC:\\Users\\User\\Anaconda\\libs -LC:\\Users\\User\\Anaconda\\PCbuild\\amd64 -lpython27 -lmsvcr90 -o build\\lib.win-amd64-2.7\\fuzzy.pyd\n"
       ]
      },
      {
       "output_type": "stream",
       "stream": "stdout",
       "text": [
        "    \n"
       ]
      },
      {
       "output_type": "stream",
       "stream": "stdout",
       "text": [
        "Successfully installed python-geohash python-Levenshtein fuzzy\n"
       ]
      },
      {
       "output_type": "stream",
       "stream": "stdout",
       "text": [
        "Cleaning up...\n"
       ]
      }
     ],
     "prompt_number": 1
    },
    {
     "cell_type": "code",
     "collapsed": false,
     "input": [
      "geo_a = GeoBase(data='airports', verbose=False)\n",
      "#other things that might be useful\n",
      "geo_o = GeoBase(data='ori_por', verbose=False)\n",
      "#geo_t = GeoBase(data='stations', verbose=False)\n",
      "\n",
      "print(geo_a.fuzzyFind('Madrid', 'name'))\n",
      "print(geo_a.fuzzyFind('Barcelona', 'name'))\n",
      "print(geo_a.fuzzyFind('Malaga', 'name'))\n"
     ],
     "language": "python",
     "metadata": {},
     "outputs": [
      {
       "output_type": "stream",
       "stream": "stdout",
       "text": [
        "[(0.9, 'MAD'), (0.7692307692307693, 'IXM')]\n",
        "[(0.9, 'BCN'), (0.7777777777777778, 'QAK')]"
       ]
      },
      {
       "output_type": "stream",
       "stream": "stdout",
       "text": [
        "\n",
        "[(0.9, 'AGP'), (0.7692307692307693, 'PLQ'), (0.7692307692307693, 'MAK')]"
       ]
      },
      {
       "output_type": "stream",
       "stream": "stdout",
       "text": [
        "\n"
       ]
      }
     ],
     "prompt_number": 3
    },
    {
     "cell_type": "code",
     "collapsed": false,
     "input": [
      "htmlContent = ''\n",
      "addContent( box(\"Reading the attributes of both files \") )\n",
      "from IPython.core.display import HTML\n",
      "HTML(htmlContent)"
     ],
     "language": "python",
     "metadata": {},
     "outputs": [
      {
       "html": [
        "<div style=\"border:1px dotted black;padding:2em;\"><h1>Reading the attributes of both files </h1></div>"
       ],
       "metadata": {},
       "output_type": "pyout",
       "prompt_number": 3,
       "text": [
        "<IPython.core.display.HTML at 0x3caad30>"
       ]
      }
     ],
     "prompt_number": 3
    },
    {
     "cell_type": "code",
     "collapsed": false,
     "input": [
      "# read the first line of the searching file \n",
      "\n",
      "N=1\n",
      "f=open(\"searches.csv\")\n",
      "for i in range(N):\n",
      " line=f.next().strip()\n",
      " print line\n",
      "f.close()\n",
      "\n",
      "# conclusion : delimiter is '^'"
     ],
     "language": "python",
     "metadata": {},
     "outputs": [
      {
       "output_type": "stream",
       "stream": "stdout",
       "text": [
        "Date^Time^TxnCode^OfficeID^Country^Origin^Destination^RoundTrip^NbSegments^Seg1Departure^Seg1Arrival^Seg1Date^Seg1Carrier^Seg1BookingCode^Seg2Departure^Seg2Arrival^Seg2Date^Seg2Carrier^Seg2BookingCode^Seg3Departure^Seg3Arrival^Seg3Date^Seg3Carrier^Seg3BookingCode^Seg4Departure^Seg4Arrival^Seg4Date^Seg4Carrier^Seg4BookingCode^Seg5Departure^Seg5Arrival^Seg5Date^Seg5Carrier^Seg5BookingCode^Seg6Departure^Seg6Arrival^Seg6Date^Seg6Carrier^Seg6BookingCode^From^IsPublishedForNeg^IsFromInternet^IsFromVista^TerminalID^InternetOffice\n"
       ]
      }
     ],
     "prompt_number": 5
    },
    {
     "cell_type": "code",
     "collapsed": false,
     "input": [
      "# read the first line of the booking file\n",
      "\n",
      "N=1\n",
      "f=open(\"bookings.csv\")\n",
      "for i in range(N):\n",
      " line=f.next().strip()\n",
      " print line\n",
      "f.close()\n"
     ],
     "language": "python",
     "metadata": {},
     "outputs": [
      {
       "output_type": "stream",
       "stream": "stdout",
       "text": [
        "act_date           ^source^pos_ctry^pos_iata^pos_oid  ^rloc          ^cre_date           ^duration^distance^dep_port^dep_city^dep_ctry^arr_port^arr_city^arr_ctry^lst_port^lst_city^lst_ctry^brd_port^brd_city^brd_ctry^off_port^off_city^off_ctry^mkt_port^mkt_city^mkt_ctry^intl^route          ^carrier^bkg_class^cab_class^brd_time           ^off_time           ^pax^year^month^oid\n"
       ]
      }
     ],
     "prompt_number": 145
    },
    {
     "cell_type": "code",
     "collapsed": false,
     "input": [
      "htmlContent = ''\n",
      "addContent( box(\"Q1. Count the number of lines for each file\") )\n",
      "from IPython.core.display import HTML\n",
      "HTML(htmlContent)"
     ],
     "language": "python",
     "metadata": {},
     "outputs": [
      {
       "html": [
        "<div style=\"border:1px dotted black;padding:2em;\"><h1>Q1. Count the number of lines for each file</h1></div>"
       ],
       "metadata": {},
       "output_type": "pyout",
       "prompt_number": 7,
       "text": [
        "<IPython.core.display.HTML at 0xc67e1d0>"
       ]
      }
     ],
     "prompt_number": 7
    },
    {
     "cell_type": "code",
     "collapsed": false,
     "input": [
      "def counter_line(fname):\n",
      "    count = 0\n",
      "    try:\n",
      "        f = open(fname, 'r')\n",
      "        while(f.next()):\n",
      "            count+=1\n",
      "    except:\n",
      "        pass\n",
      "    return count\n",
      "\n",
      "srch_lines = counter_line(\"searches.csv\")\n",
      "print \"the number of lines in searching.csv are %s\" % srch_lines\n",
      "\n",
      "booking_lines = counter_line(\"bookings.csv\")\n",
      "print \"the number of lines in bookings.csv are %s\" % booking_lines"
     ],
     "language": "python",
     "metadata": {},
     "outputs": [
      {
       "output_type": "stream",
       "stream": "stdout",
       "text": [
        "the number of lines in searching.csv are 20390199\n",
        "the number of lines in bookings.csv are 10000011"
       ]
      },
      {
       "output_type": "stream",
       "stream": "stdout",
       "text": [
        "\n"
       ]
      }
     ],
     "prompt_number": 10
    },
    {
     "cell_type": "code",
     "collapsed": false,
     "input": [
      "htmlContent = ''\n",
      "addContent( box(\"Q2. top 10 arrival airports in the world in 2013\") )\n",
      "from IPython.core.display import HTML\n",
      "HTML(htmlContent)"
     ],
     "language": "python",
     "metadata": {},
     "outputs": [
      {
       "html": [
        "<div style=\"border:1px dotted black;padding:2em;\"><h1>Q2. top 10 arrival airports in the world in 2013</h1></div>"
       ],
       "metadata": {},
       "output_type": "pyout",
       "prompt_number": 11,
       "text": [
        "<IPython.core.display.HTML at 0xc67e358>"
       ]
      }
     ],
     "prompt_number": 11
    },
    {
     "cell_type": "code",
     "collapsed": false,
     "input": [
      "#0 - Identify the index : year, arr_airport and pax\n",
      "fh = open(\"bookings.csv\", 'rb')\n",
      "try:\n",
      "    for row in csv.reader(fh,delimiter=\"^\"):\n",
      "        print row.index('arr_port')\n",
      "        print row.index('pax')\n",
      "        print row.index('year')\n",
      "        break \n",
      "finally:\n",
      "    fh.close() "
     ],
     "language": "python",
     "metadata": {},
     "outputs": [
      {
       "output_type": "stream",
       "stream": "stdout",
       "text": [
        "12\n",
        "34\n",
        "35\n"
       ]
      }
     ],
     "prompt_number": 13
    },
    {
     "cell_type": "code",
     "collapsed": false,
     "input": [
      "def arr_airport(n):\n",
      "    \n",
      "    lairport = []\n",
      "    lpax = {} # will contain item 'airport:nb_pax'\n",
      "\n",
      "    #1 - Create a list containing the nb passengers per arrival airport\n",
      "    fh = open(\"bookings.csv\", 'rb')\n",
      "    try:\n",
      "        for row in csv.reader(fh,delimiter=\"^\"):\n",
      "            try:\n",
      "                year = row[35]\n",
      "                #print type(pax)\n",
      "                #print arr_airport, year, nb_passengers\n",
      "                if year == \"2013\":\n",
      "                    arr_airport = row[12]\n",
      "                    nb_pax = int(row[34])\n",
      "                    if arr_airport in lairport:\n",
      "                        lpax[arr_airport] += nb_pax\n",
      "                    else:\n",
      "                        lpax[arr_airport] = 0\n",
      "                        lairport.append(arr_airport)\n",
      "            except IndexError:\n",
      "                pass\n",
      "    finally:\n",
      "        fh.close()\n",
      "\n",
      "    #2 - Ordering and add the corresponding city code\n",
      "    print \"airport  | number of pax\"\n",
      "    i=0\n",
      "    for key, value in sorted(lpax.iteritems(), key=lambda (k,v): (v,k),reverse=True):\n",
      "        # TODO : geo_o = GeoBase(data='ori_por', verbose=False) #issue with install....\n",
      "        # TODO : city = geo_o.get(key,'city_code')\n",
      "        print \"%s | %s\" % (key, value)\n",
      "        i+=1\n",
      "        if(i == 10):\n",
      "            break\n",
      "\n",
      " \n",
      "arr_airport(10)"
     ],
     "language": "python",
     "metadata": {},
     "outputs": [
      {
       "output_type": "stream",
       "stream": "stdout",
       "text": [
        "airport  | number of pax\n",
        "LHR      | 88809\n",
        "MCO      | 70930\n",
        "LAX      | 70528\n",
        "LAS      | 69625\n",
        "JFK      | 66268\n",
        "CDG      | 64488\n",
        "BKK      | 59458\n",
        "MIA      | 58144\n",
        "SFO      | 57998\n",
        "DXB      | 55588\n"
       ]
      }
     ],
     "prompt_number": 47
    },
    {
     "cell_type": "code",
     "collapsed": false,
     "input": [
      "def arr_airport_panda(n):\n",
      "      \n",
      "    headers = ['arr_port', 'pax','year']\n",
      "    data = pd.read_table('bookings.csv',sep='^', usecols=headers, quotechar='|',converters={'year':str})\n",
      "    arrs = data[data['year'] == \"2013\"].groupby('arr_port').sum()\n",
      "    #order by number of passengers\n",
      "    print arrs.sort(columns='pax', ascending=False).head(n)\n",
      "        \n",
      "arr_airport_panda(10)\n"
     ],
     "language": "python",
     "metadata": {},
     "outputs": [
      {
       "output_type": "stream",
       "stream": "stdout",
       "text": [
        "            pax\n",
        "arr_port       \n",
        "LHR       88809\n",
        "MCO       70930\n",
        "LAX       70530\n",
        "LAS       69630\n",
        "JFK       66270\n",
        "CDG       64490\n",
        "BKK       59460\n",
        "MIA       58150\n",
        "SFO       58000\n",
        "DXB       55590\n"
       ]
      }
     ],
     "prompt_number": 46
    },
    {
     "cell_type": "code",
     "collapsed": false,
     "input": [
      "htmlContent = ''\n",
      "addContent( box(\"Q3. Monthly number of searches for flights to Madrid, Barcelona or Malaga\") )\n",
      "from IPython.core.display import HTML\n",
      "HTML(htmlContent)"
     ],
     "language": "python",
     "metadata": {},
     "outputs": [
      {
       "html": [
        "<div style=\"border:1px dotted black;padding:2em;\"><h1>Q3. Monthly number of searches for flights to Madrid, Barcelona or Malaga</h1></div>"
       ],
       "metadata": {},
       "output_type": "pyout",
       "prompt_number": 111,
       "text": [
        "<IPython.core.display.HTML at 0xec60f28>"
       ]
      }
     ],
     "prompt_number": 111
    },
    {
     "cell_type": "code",
     "collapsed": false,
     "input": [
      "%matplotlib inline\n",
      "\n",
      "# main function\n",
      "def monthly_searches_panda(file):\n",
      "      \n",
      "    headers = ['Destination', 'Date']\n",
      "    data = pd.read_table(file,sep='^', usecols=headers, quotechar='|',converters={'Destination':str},nrows = 1000000)\n",
      "    \n",
      "    #replace empty cell with NaN\n",
      "    data.replace(r'\\s+', np.nan, regex=True)\n",
      "    data.dropna(subset=['Date','Destination'])\n",
      "\n",
      "    try:\n",
      "        temp = data['Date']\n",
      "        temp = pd.DatetimeIndex(data['Date'])\n",
      "        data['Month'] = temp.month\n",
      "    except:\n",
      "        pass\n",
      "        \n",
      "    # Filter by cities\n",
      "    list_of_airport = ['AGP','MAD','BCN']\n",
      "    data = data[data['Destination'].isin(list_of_airport)]\n",
      "            \n",
      "    #print data['Month'].head(2)\n",
      "    #airports : Malaga : AGP, Madrid : MAD, Barcelona: BCN    \n",
      "    return data.groupby(['Month','Destination']).size().unstack()\n",
      "\n",
      "\n",
      "monthly_searches_panda(\"searches.csv\").plot()\n",
      "\n",
      "## TODO : plot data + find airports thanks to geoBase\n"
     ],
     "language": "python",
     "metadata": {},
     "outputs": [
      {
       "metadata": {},
       "output_type": "pyout",
       "prompt_number": 122,
       "text": [
        "<matplotlib.axes._subplots.AxesSubplot at 0x4db38208>"
       ]
      },
      {
       "metadata": {},
       "output_type": "display_data",
       "png": "[encoded data removed]",
       "text": [
        "<matplotlib.figure.Figure at 0x4db450b8>"
       ]
      }
     ],
     "prompt_number": 122
    },
    {
     "cell_type": "code",
     "collapsed": false,
     "input": [
      "htmlContent = ''\n",
      "addContent( box(\"Q4. Match searches with bookings\") )\n",
      "from IPython.core.display import HTML\n",
      "HTML(htmlContent)"
     ],
     "language": "python",
     "metadata": {},
     "outputs": [
      {
       "html": [
        "<div style=\"border:1px dotted black;padding:2em;\"><h1>Q4. Match searches with bookings</h1></div>"
       ],
       "metadata": {},
       "output_type": "pyout",
       "prompt_number": 112,
       "text": [
        "<IPython.core.display.HTML at 0xec60c50>"
       ]
      }
     ],
     "prompt_number": 112
    },
    {
     "cell_type": "code",
     "collapsed": false,
     "input": [
      "from collections import Counter\n",
      "\n",
      "def compare(search, booked):\n",
      "    \n",
      "    search_confirmed =0\n",
      "    for i, search_row in search.iterrows():\n",
      "        assert i in search.index, 'Expected row {!r} not found.'.format(i)\n",
      "        search_row = search.loc[i]\n",
      "        \n",
      "        #print search_row\n",
      "        for j, book_row in booked.iterrows():\n",
      "            \n",
      "            assert j in booked.index, 'Expected column {!r} not found.'.format(j)\n",
      "         \n",
      "            book_row = search.loc[i]\n",
      "            \n",
      "            # other more restricted field could be used\n",
      "            # as if the pax has specifically asked for a specific booking class\n",
      "            if ( book_row['Flag'] == 0) &\\\n",
      "               ( book_row['Origin'] == search_row['Origin']) &\\         # check O&D\n",
      "               ( book_row['Destination'] == search_row['Destination']) &\\\n",
      "               ( book_row['NbSegments'] == search_row['NbSegments']) &\\ # check add stop\n",
      "               ( book_row['Seg1Date'] == search_row['Seg1Date']) &\\     # check flight date\n",
      "               ( book_row['Seg2Date'] == search_row['Seg2Date'])&\\\n",
      "               ( book_row['Date'] >= search_row['Date'] )&\\             # check request dates\n",
      "               ( book_row['Time'] >= search_row['Time'] ) :\n",
      "                book_row['Flag'] = \"1\" # in order to not parse several time this row\n",
      "                search_row['Flag'] = \"1\" # flag the search row which lead to a booking\n",
      "                #print book_row\n",
      "                search_confirmed +=1\n",
      "                break            \n",
      "                      \n",
      "    return search_confirmed\n",
      "                \n",
      "def count_nblegs(word):\n",
      "    nb_leg = (len(word) - word.count(' '))/3-1\n",
      "    return nb_leg\n",
      "        \n",
      "def nb_search_confirmed(bif,saf):\n",
      "\n",
      "    #1- retrieve info in \"searches.csv\" or use a panel (randomly chosen, todo)\n",
      "    headers_searches = ['Date','Time','Origin','Destination','NbSegments','Seg1Date','Seg2Date']\n",
      "    searches_data = pd.read_table(saf,sep='^', usecols=headers_searches, quotechar='|', \\\n",
      "                                  converters={'Origin':str,'Destination':str},nrows=1000)   \n",
      "    searches_data.dropna(subset=headers_searches) \n",
      "    \n",
      "    searches_data['Seg1Date'] = pd.DatetimeIndex(searches_data['Seg1Date']).normalize()\n",
      "    searches_data['Seg2Date'] = pd.DatetimeIndex(searches_data['Seg2Date']).normalize()\n",
      "    \n",
      "    #searches_data.sort_index(axis=1,inplace=True)\n",
      "    \n",
      "    #print searches_data.head(n=10)\n",
      "\n",
      "    #1- retrieve info in \"bookings.csv\"\n",
      "    headers_bookings = ['off_time           ','dep_port','arr_port','route          ','brd_time           '] \n",
      "    booking_data = pd.read_table(bif,sep='^', usecols=headers_bookings, quotechar='|', \\\n",
      "                                 converters={'dep_port':str,'arr_port':str,'route          ':str},nrows=1000)\n",
      "    booking_data.dropna(subset=headers_bookings)\n",
      "    \n",
      "\n",
      "    #Transform format\n",
      "    booking_data['Date'] = pd.DatetimeIndex(booking_data['off_time           ']).normalize()\n",
      "    booking_data['Seg1Date'] = pd.DatetimeIndex(booking_data['brd_time           ']).normalize()\n",
      "    booking_data['Seg2Date'] = pd.DatetimeIndex(booking_data['off_time           ']).normalize()\n",
      "    booking_data['Time'] = pd.DatetimeIndex(booking_data['off_time           ']).time  \n",
      "    booking_data['route          '] = booking_data['route          '].apply(lambda x: \\\n",
      "                                                   count_nblegs(str(x)) if(len(str(x)) != 'nan') else x)       \n",
      "    \n",
      "    booking_data = booking_data.drop('brd_time           ', 1)\n",
      "    booking_data = booking_data.drop('off_time           ', 1)\n",
      "    \n",
      "    booking_data = booking_data.rename \\\n",
      "                   (columns={'dep_port': 'Origin', 'arr_port': 'Destination','route          ': 'NbSegments'})\n",
      "    \n",
      "    #booking_data.sort_index(axis=1,inplace=True)\n",
      "    \n",
      "    #print booking_data.head(n=10)\n",
      "    \n",
      "    # additional field to check if the search ended up in a booking\n",
      "    booking_data['Flag']=0\n",
      "    searches_data['Flag']=0\n",
      "    count = compare(searches_data, booking_data)\n",
      "    \n",
      "    #print searches_data.head(n=10)\n",
      "        \n",
      "    searches_data.to_csv(\"D:\\PERSO\\ISABELLE\\DataScientistTest\\confirmed_searches.csv\")\n",
      "    \n",
      "    return count\n",
      "    \n",
      "    \n",
      "nb_confirmed = nb_search_confirmed(\"bookings.csv\",\"searches.csv\")\n",
      "\n",
      "print \"the number of searches which lead to a bookings are :\",nb_confirmed"
     ],
     "language": "python",
     "metadata": {},
     "outputs": [
      {
       "output_type": "stream",
       "stream": "stdout",
       "text": [
        "the number of searches which lead to a bookings are : 708\n"
       ]
      }
     ],
     "prompt_number": 315
    },
    {
     "cell_type": "code",
     "collapsed": false,
     "input": [
      "htmlContent = ''\n",
      "addContent( box(\"Q5. Create a web service\") )\n",
      "from IPython.core.display import HTML\n",
      "HTML(htmlContent)"
     ],
     "language": "python",
     "metadata": {},
     "outputs": [
      {
       "html": [
        "<div style=\"border:1px dotted black;padding:2em;\"><h1>Q5. Create a web service</h1></div>"
       ],
       "metadata": {},
       "output_type": "pyout",
       "prompt_number": 123,
       "text": [
        "<IPython.core.display.HTML at 0x620739b0>"
       ]
      }
     ],
     "prompt_number": 123
    },
    {
     "cell_type": "code",
     "collapsed": false,
     "input": [],
     "language": "python",
     "metadata": {},
     "outputs": [],
     "prompt_number": 315
    },
    {
     "cell_type": "code",
     "collapsed": false,
     "input": [],
     "language": "python",
     "metadata": {},
     "outputs": []
    }
   ],
   "metadata": {}
  }
 ]
}