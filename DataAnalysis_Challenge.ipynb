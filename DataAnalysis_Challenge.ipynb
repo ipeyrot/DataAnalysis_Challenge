{
 "metadata": {
  "name": "",
  "signature": "sha256:867680bd50d9b6d0b4ed2b0396506d3626db350dcbccb597ae68bb6d97276797"
 },
 "nbformat": 3,
 "nbformat_minor": 0,
 "worksheets": [
  {
   "cells": [
    {
     "cell_type": "code",
     "collapsed": false,
     "input": [
      "import os\n",
      "import csv\n",
      "import pandas as pd\n",
      "import numpy as np\n",
      "import matplotlib.pyplot as plt\n",
      "#from GeoBases import GeoBase\n",
      "\n",
      "pd.set_option('display.mpl_style', 'default')\n",
      "\n",
      "htmlContent = ''\n",
      "\n",
      "def header(text):\n",
      " raw_html = '<h1>' + str(text) + '</h1>'\n",
      " return raw_html\n",
      "\n",
      "def box(text):\n",
      " raw_html = '<div style=\"border:1px dotted black;padding:2em;\"><h1>' +str(text)+'</h1></div>'\n",
      " return raw_html\n",
      "\n",
      "def addContent(raw_html):\n",
      " global htmlContent\n",
      " htmlContent += raw_html\n",
      "\n",
      "addContent( header(\"Data Analysis Challenge\") )\n",
      "from IPython.core.display import HTML\n",
      "HTML(htmlContent)\n"
     ],
     "language": "python",
     "metadata": {},
     "outputs": [
      {
       "html": [
        "<h1>Data Analysis Challenge</h1>"
       ],
       "metadata": {},
       "output_type": "pyout",
       "prompt_number": 1,
       "text": [
        "<IPython.core.display.HTML at 0xc25ae10>"
       ]
      }
     ],
     "prompt_number": 1
    },
    {
     "cell_type": "code",
     "collapsed": false,
     "input": [
      "# Check current working directory.\n",
      "my_directory = os.getcwd()\n",
      "print \"Current working directory %s\" % my_directory\n",
      "\n",
      "path = \"D:/Documents/Data\"\n",
      "\n",
      "# Now change the directory\n",
      "os.chdir(path)\n",
      "\n",
      "# Check current working directory.\n",
      "my_directory = os.getcwd()\n",
      "\n",
      "print \"Directory changed successfully %s\" % my_directory"
     ],
     "language": "python",
     "metadata": {},
     "outputs": [
      {
       "output_type": "stream",
       "stream": "stdout",
       "text": [
        "Current working directory D:\\Userfiles\\ipeyrot\\Documents\\IPython Notebooks\n",
        "Directory changed successfully D:\\Documents\\Data\n"
       ]
      }
     ],
     "prompt_number": 2
    },
    {
     "cell_type": "code",
     "collapsed": false,
     "input": [
      "htmlContent = ''\n",
      "addContent( box(\"Reading the attributes of both files \") )\n",
      "from IPython.core.display import HTML\n",
      "HTML(htmlContent)"
     ],
     "language": "python",
     "metadata": {},
     "outputs": [
      {
       "html": [
        "<div style=\"border:1px dotted black;padding:2em;\"><h1>Reading the attributes of both files </h1></div>"
       ],
       "metadata": {},
       "output_type": "pyout",
       "prompt_number": 3,
       "text": [
        "<IPython.core.display.HTML at 0x3caad30>"
       ]
      }
     ],
     "prompt_number": 3
    },
    {
     "cell_type": "code",
     "collapsed": false,
     "input": [
      "# read the first line of the searching file \n",
      "\n",
      "N=1\n",
      "f=open(\"searches.csv\")\n",
      "for i in range(N):\n",
      " line=f.next().strip()\n",
      " print line\n",
      "f.close()\n",
      "\n",
      "# conclusion : delimiter is '^'"
     ],
     "language": "python",
     "metadata": {},
     "outputs": [
      {
       "output_type": "stream",
       "stream": "stdout",
       "text": [
        "Date^Time^TxnCode^OfficeID^Country^Origin^Destination^RoundTrip^NbSegments^Seg1Departure^Seg1Arrival^Seg1Date^Seg1Carrier^Seg1BookingCode^Seg2Departure^Seg2Arrival^Seg2Date^Seg2Carrier^Seg2BookingCode^Seg3Departure^Seg3Arrival^Seg3Date^Seg3Carrier^Seg3BookingCode^Seg4Departure^Seg4Arrival^Seg4Date^Seg4Carrier^Seg4BookingCode^Seg5Departure^Seg5Arrival^Seg5Date^Seg5Carrier^Seg5BookingCode^Seg6Departure^Seg6Arrival^Seg6Date^Seg6Carrier^Seg6BookingCode^From^IsPublishedForNeg^IsFromInternet^IsFromVista^TerminalID^InternetOffice\n"
       ]
      }
     ],
     "prompt_number": 5
    },
    {
     "cell_type": "code",
     "collapsed": false,
     "input": [
      "# read the first line of the booking file\n",
      "\n",
      "N=1\n",
      "f=open(\"bookings.csv\")\n",
      "for i in range(N):\n",
      " line=f.next().strip()\n",
      " print line\n",
      "f.close()\n"
     ],
     "language": "python",
     "metadata": {},
     "outputs": [
      {
       "output_type": "stream",
       "stream": "stdout",
       "text": [
        "act_date           ^source^pos_ctry^pos_iata^pos_oid  ^rloc          ^cre_date           ^duration^distance^dep_port^dep_city^dep_ctry^arr_port^arr_city^arr_ctry^lst_port^lst_city^lst_ctry^brd_port^brd_city^brd_ctry^off_port^off_city^off_ctry^mkt_port^mkt_city^mkt_ctry^intl^route          ^carrier^bkg_class^cab_class^brd_time           ^off_time           ^pax^year^month^oid\n"
       ]
      }
     ],
     "prompt_number": 145
    },
    {
     "cell_type": "code",
     "collapsed": false,
     "input": [
      "htmlContent = ''\n",
      "addContent( box(\"Q1. Count the number of lines for each file\") )\n",
      "from IPython.core.display import HTML\n",
      "HTML(htmlContent)"
     ],
     "language": "python",
     "metadata": {},
     "outputs": [
      {
       "html": [
        "<div style=\"border:1px dotted black;padding:2em;\"><h1>Q1. Count the number of lines for each file</h1></div>"
       ],
       "metadata": {},
       "output_type": "pyout",
       "prompt_number": 7,
       "text": [
        "<IPython.core.display.HTML at 0xc67e1d0>"
       ]
      }
     ],
     "prompt_number": 7
    },
    {
     "cell_type": "code",
     "collapsed": false,
     "input": [
      "def counter_line(fname):\n",
      "    count = 0\n",
      "    try:\n",
      "        f = open(fname, 'r')\n",
      "        while(f.next()):\n",
      "            count+=1\n",
      "    except:\n",
      "        pass\n",
      "    return count\n",
      "\n",
      "srch_lines = counter_line(\"searches.csv\")\n",
      "print \"the number of lines in searching.csv are %s\" % srch_lines\n",
      "\n",
      "booking_lines = counter_line(\"bookings.csv\")\n",
      "print \"the number of lines in bookings.csv are %s\" % booking_lines"
     ],
     "language": "python",
     "metadata": {},
     "outputs": [
      {
       "output_type": "stream",
       "stream": "stdout",
       "text": [
        "the number of lines in searching.csv are 20390199\n",
        "the number of lines in bookings.csv are 10000011"
       ]
      },
      {
       "output_type": "stream",
       "stream": "stdout",
       "text": [
        "\n"
       ]
      }
     ],
     "prompt_number": 10
    },
    {
     "cell_type": "code",
     "collapsed": false,
     "input": [
      "htmlContent = ''\n",
      "addContent( box(\"Q2. top 10 arrival airports in the world in 2013\") )\n",
      "from IPython.core.display import HTML\n",
      "HTML(htmlContent)"
     ],
     "language": "python",
     "metadata": {},
     "outputs": [
      {
       "html": [
        "<div style=\"border:1px dotted black;padding:2em;\"><h1>Q2. top 10 arrival airports in the world in 2013</h1></div>"
       ],
       "metadata": {},
       "output_type": "pyout",
       "prompt_number": 11,
       "text": [
        "<IPython.core.display.HTML at 0xc67e358>"
       ]
      }
     ],
     "prompt_number": 11
    },
    {
     "cell_type": "code",
     "collapsed": false,
     "input": [
      "#0 - Identify the index : year, arr_airport and pax\n",
      "fh = open(\"bookings.csv\", 'rb')\n",
      "try:\n",
      "    for row in csv.reader(fh,delimiter=\"^\"):\n",
      "        print row.index('arr_port')\n",
      "        print row.index('pax')\n",
      "        print row.index('year')\n",
      "        break \n",
      "finally:\n",
      "    fh.close() "
     ],
     "language": "python",
     "metadata": {},
     "outputs": [
      {
       "output_type": "stream",
       "stream": "stdout",
       "text": [
        "12\n",
        "34\n",
        "35\n"
       ]
      }
     ],
     "prompt_number": 13
    },
    {
     "cell_type": "code",
     "collapsed": false,
     "input": [
      "def arr_airport(n):\n",
      "    \n",
      "    lairport = []\n",
      "    lpax = {} # will contain item 'airport:nb_pax'\n",
      "\n",
      "    #1 - Create a list containing the nb passengers per arrival airport\n",
      "    fh = open(\"bookings.csv\", 'rb')\n",
      "    try:\n",
      "        for row in csv.reader(fh,delimiter=\"^\"):\n",
      "            try:\n",
      "                year = row[35]\n",
      "                #print type(pax)\n",
      "                #print arr_airport, year, nb_passengers\n",
      "                if year == \"2013\":\n",
      "                    arr_airport = row[12]\n",
      "                    nb_pax = int(row[34])\n",
      "                    if arr_airport in lairport:\n",
      "                        lpax[arr_airport] += nb_pax\n",
      "                    else:\n",
      "                        lpax[arr_airport] = 0\n",
      "                        lairport.append(arr_airport)\n",
      "            except IndexError:\n",
      "                pass\n",
      "    finally:\n",
      "        fh.close()\n",
      "\n",
      "    #2 - Ordering and add the corresponding city code\n",
      "    print \"airport  | number of pax\"\n",
      "    i=0\n",
      "    for key, value in sorted(lpax.iteritems(), key=lambda (k,v): (v,k),reverse=True):\n",
      "        # TODO : geo_o = GeoBase(data='ori_por', verbose=False) #issue with install....\n",
      "        # TODO : city = geo_o.get(key,'city_code')\n",
      "        print \"%s | %s\" % (key, value)\n",
      "        i+=1\n",
      "        if(i == 10):\n",
      "            break\n",
      "\n",
      " \n",
      "arr_airport(10)"
     ],
     "language": "python",
     "metadata": {},
     "outputs": [
      {
       "output_type": "stream",
       "stream": "stdout",
       "text": [
        "airport  | number of pax\n",
        "LHR      | 88809\n",
        "MCO      | 70930\n",
        "LAX      | 70528\n",
        "LAS      | 69625\n",
        "JFK      | 66268\n",
        "CDG      | 64488\n",
        "BKK      | 59458\n",
        "MIA      | 58144\n",
        "SFO      | 57998\n",
        "DXB      | 55588\n"
       ]
      }
     ],
     "prompt_number": 47
    },
    {
     "cell_type": "code",
     "collapsed": false,
     "input": [
      "def arr_airport_panda(n):\n",
      "      \n",
      "    headers = ['arr_port', 'pax','year']\n",
      "    data = pd.read_table('bookings.csv',sep='^', usecols=headers, quotechar='|',converters={'year':str})\n",
      "    arrs = data[data['year'] == \"2013\"].groupby('arr_port').sum()\n",
      "    #order by number of passengers\n",
      "    print arrs.sort(columns='pax', ascending=False).head(n)\n",
      "        \n",
      "arr_airport_panda(10)\n"
     ],
     "language": "python",
     "metadata": {},
     "outputs": [
      {
       "output_type": "stream",
       "stream": "stdout",
       "text": [
        "            pax\n",
        "arr_port       \n",
        "LHR       88809\n",
        "MCO       70930\n",
        "LAX       70530\n",
        "LAS       69630\n",
        "JFK       66270\n",
        "CDG       64490\n",
        "BKK       59460\n",
        "MIA       58150\n",
        "SFO       58000\n",
        "DXB       55590\n"
       ]
      }
     ],
     "prompt_number": 46
    },
    {
     "cell_type": "code",
     "collapsed": false,
     "input": [
      "htmlContent = ''\n",
      "addContent( box(\"Q3. Monthly number of searches for flights to Madrid, Barcelona or Malaga\") )\n",
      "from IPython.core.display import HTML\n",
      "HTML(htmlContent)"
     ],
     "language": "python",
     "metadata": {},
     "outputs": [
      {
       "html": [
        "<div style=\"border:1px dotted black;padding:2em;\"><h1>Q3. Monthly number of searches for flights to Madrid, Barcelona or Malaga</h1></div>"
       ],
       "metadata": {},
       "output_type": "pyout",
       "prompt_number": 111,
       "text": [
        "<IPython.core.display.HTML at 0xec60f28>"
       ]
      }
     ],
     "prompt_number": 111
    },
    {
     "cell_type": "code",
     "collapsed": false,
     "input": [
      "#fix the condition before group by month\n",
      "def condition(data,city):\n",
      "    try:\n",
      "        data.replace(r'\\s+', np.nan, regex=True)   \n",
      "        data.dropna(subset=['Month'], how='any', inplace = True) # drop rows with empty values\n",
      "        if(data['Month'] < 1:\n",
      "           return (data['Destination'] == 'XXX')\n",
      "        if(data['Month'] > 12:\n",
      "           return (data['Destination'] == 'XXX')\n",
      "        if(city == \"Malaga\"):\n",
      "            return (data['Destination'] == 'AGP') \n",
      "        if(city == \"Madrid\"):\n",
      "            return (data['Destination'] == 'MAD')\n",
      "        if(city == \"Barcelona\"):\n",
      "            return (data['Destination'] == 'BCN')\n",
      "    except:\n",
      "        return (data['Destination'] == 'XXX')\n",
      "\n",
      "    \n",
      "# main function\n",
      "def monthly_searches_panda(file):\n",
      "      \n",
      "    headers = ['Destination', 'Date']\n",
      "    data = pd.read_table(file,sep='^', usecols=headers, quotechar='|',converters={'Destination':str})\n",
      "    \n",
      "    #replace empty cell with NaN\n",
      "    data.replace(r'\\s+', np.nan, regex=True)\n",
      "    data.dropna(subset=['Date'])\n",
      "\n",
      "    temp = data['Date']\n",
      "\n",
      "    # check format year\n",
      "    #df = data.drop(['date','time'], axis=1)\n",
      "    try:\n",
      "        temp = pd.DatetimeIndex(data['Date'])\n",
      "        data['Month'] = temp.month\n",
      "    except:\n",
      "        pass\n",
      "            \n",
      "    #print data['Month'].head(2)\n",
      "    search_city = {}\n",
      "    \n",
      "    for city in [\"Malaga\",\"Madrid\",\"Barcelona\"]:\n",
      "        #airports : Malaga : AGP, Madrid : MAD, Barcelona: BCN\n",
      "        dataFiltered = data[condition(data,city)]\n",
      "        search_city[city] = dataFiltered.groupby('Month').size()  \n",
      "        # for data_dict in search_city[city]:\n",
      "        #        x = data_dict.keys()\n",
      "        #        y = data_dict.values()\n",
      "        #        plt.scatter(x,y,color=colors.pop())\n",
      "        #        plt.legend(searches_airp.keys())\n",
      "        #        plt.show()\n",
      "    \n",
      "    return search_city\n",
      "\n",
      "\n",
      "\n",
      "searches_airp = monthly_searches_panda(\"searches.csv\")\n",
      "\n",
      "print searches_airp\n",
      "\n",
      "## TODO : plot data + find airports thanks to geoBase\n"
     ],
     "language": "python",
     "metadata": {},
     "outputs": [
      {
       "output_type": "stream",
       "stream": "stdout",
       "text": [
        "{'Madrid': Month\n",
        "1        1275\n",
        "2        1200\n",
        "3        1299\n",
        "4        1329\n",
        "5        1386\n",
        "6        1200\n",
        "7        1209\n",
        "8        1149\n",
        "9        1113\n",
        "10        915\n",
        "11        724\n",
        "12        518\n",
        "dtype: int64, 'Malaga': Month\n",
        "1        507\n",
        "2        441\n",
        "3        561\n",
        "4        435\n",
        "5        570\n",
        "6        417\n",
        "7        468\n",
        "8        414\n",
        "9        429\n",
        "10       271\n",
        "11       228\n",
        "12       132\n",
        "dtype: int64, 'Barcelona': Month\n",
        "1        1551\n",
        "2        1491\n",
        "3        1608\n",
        "4        1644\n",
        "5        1512\n",
        "6        1395\n",
        "7        1539\n",
        "8        1425\n",
        "9        1233\n",
        "10        839\n",
        "11        708\n",
        "12        550\n",
        "dtype: int64}\n"
       ]
      }
     ],
     "prompt_number": 51
    },
    {
     "cell_type": "code",
     "collapsed": false,
     "input": [
      "htmlContent = ''\n",
      "addContent( box(\"Q4. Match searches with bookings\") )\n",
      "from IPython.core.display import HTML\n",
      "HTML(htmlContent)"
     ],
     "language": "python",
     "metadata": {},
     "outputs": [
      {
       "html": [
        "<div style=\"border:1px dotted black;padding:2em;\"><h1>Q4. Match searches with bookings</h1></div>"
       ],
       "metadata": {},
       "output_type": "pyout",
       "prompt_number": 112,
       "text": [
        "<IPython.core.display.HTML at 0xec60c50>"
       ]
      }
     ],
     "prompt_number": 112
    },
    {
     "cell_type": "code",
     "collapsed": false,
     "input": [
      "## TODO\n",
      "\n",
      "def count_nblegs(routing):\n",
      "    # parse the routing to extract the number of stops (we use the convention that a board/off is written with 3 characs)\n",
      "    return (len(routing)/3)-1\n",
      "    \n",
      "def nb_search_confirmed(bif,saf):\n",
      "      \n",
      "        \n",
      "    dfs = []\n",
      "\n",
      "    headers_searches = ['Date','Time','Origin','Destination','NbSegments','Seg1Date','Seg2Date']\n",
      "    searches_data = pd.read_table(saf,sep='^', usecols=headers_searches, quotechar='|',converters={'Origin':str,'Destination':str})\n",
      "    dfs.append(searches_data)\n",
      "    \n",
      "    df = pd.concat(dfs, ignore_index=True)\n",
      "    \n",
      "    headers_bookings = ['off_time','dep_port','arr_port','route','brd_time','off_time'] \n",
      "    booking_data = pd.read_table(bif,sep='^', usecols=headers_bookings, quotechar='|',converters={'dep_port':str,'arr_port':str,'route':str})\n",
      "    dfs.append(booking_data)\n",
      "    \n",
      "    # Concatenate all data into one DataFrame\n",
      "    df = pd.concat(dfs, ignore_index=True)\n",
      "    \n",
      "    print df.head(n=2)\n",
      "    \n",
      "    #df['LegsBooked'] = df['route'].apply(count_nblegs(x))\n",
      "    \n",
      "    #1-Conditions\n",
      "    condition_routing = (df['Origin'] == df['dep_port']) & (df['Destination'] == df['arr_port']) & (df['NbSegments'] == df['LegsBooked'])\n",
      "    condition_flightdate = (df['Seg1Date'] == df['brd_time'])\n",
      "    condition_booking = (df['Date'] < df['off_time'])\n",
      "    \n",
      "    #select count(*) from searches s, bookings b where (s.from == b.from && s.to == b.to && s.date < b.date && s.nbLegs == b.nbLegs)\n",
      "    counter = 0\n",
      "    global_condition = condition_routing & condition_flightdate & condition_booking\n",
      "    if global_condition:\n",
      "        #print into a csv file ==> the search has been confirmed with booking(s)\n",
      "        counter +=1\n",
      "    \n",
      "    return counter\n",
      "    \n",
      "    \n",
      "nb_confirmed = nb_search_confirmed(\"bookings_small.csv\",\"searches_small.csv\")\n",
      "print \"the number of searches which lead to a bookings are between :\",nb_confirmed"
     ],
     "language": "python",
     "metadata": {},
     "outputs": []
    },
    {
     "cell_type": "code",
     "collapsed": false,
     "input": [
      "htmlContent = ''\n",
      "addContent( box(\"Q5. Create a web service\") )\n",
      "from IPython.core.display import HTML\n",
      "HTML(htmlContent)"
     ],
     "language": "python",
     "metadata": {},
     "outputs": []
    }
   ],
   "metadata": {}
  }
 ]
}